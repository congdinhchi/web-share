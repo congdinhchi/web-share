{
 "cells": [
  {
   "cell_type": "markdown",
   "source": [
    "# I. Import library"
   ],
   "metadata": {
    "collapsed": false
   }
  },
  {
   "cell_type": "code",
   "execution_count": 1,
   "outputs": [],
   "source": [
    "import pandas as pd\n",
    "import numpy as np\n",
    "import matplotlib.pyplot as plt\n",
    "from sklearn.model_selection import train_test_split\n",
    "from xgboost import XGBRegressor\n",
    "from sklearn.metrics import mean_squared_error\n",
    "from sklearn.preprocessing import MinMaxScaler, StandardScaler\n",
    "from sklearn import preprocessing"
   ],
   "metadata": {
    "collapsed": false,
    "pycharm": {
     "name": "#%%\n"
    }
   }
  },
  {
   "cell_type": "markdown",
   "source": [
    "# II. Chuẩn bị data"
   ],
   "metadata": {
    "collapsed": false
   }
  },
  {
   "cell_type": "markdown",
   "source": [
    "#### Load data"
   ],
   "metadata": {
    "collapsed": false
   }
  },
  {
   "cell_type": "code",
   "execution_count": 2,
   "outputs": [],
   "source": [
    "data_path = './dataset/trainDataset.csv'\n",
    "df = pd.read_csv(data_path)"
   ],
   "metadata": {
    "collapsed": false,
    "pycharm": {
     "name": "#%%\n"
    }
   }
  },
  {
   "cell_type": "markdown",
   "source": [
    "#### Phân tích data"
   ],
   "metadata": {
    "collapsed": false
   }
  },
  {
   "cell_type": "code",
   "execution_count": 3,
   "outputs": [
    {
     "data": {
      "text/plain": "12165"
     },
     "execution_count": 3,
     "metadata": {},
     "output_type": "execute_result"
    }
   ],
   "source": [
    "len(df)"
   ],
   "metadata": {
    "collapsed": false,
    "pycharm": {
     "name": "#%%\n"
    }
   }
  },
  {
   "cell_type": "markdown",
   "source": [
    "Dữ liệu bao gồm\n",
    "- id: mã id của mỗi bản ghi\n",
    "- season: mùa (1: mùa xuân, 2: mùa hè, 3: mùa thu, 4: mùa đông)\n",
    "- yr: năm (0: 2011, 1: 2012)\n",
    "- mnth: tháng (1 -> 12)\n",
    "- hr: giờ (0 -> 23)\n",
    "- holiday: ngày nghỉ lễ (trích rút từ http://dchr.dc.gov/page/holiday-schedule)\n",
    "- weekday: ngày trong tuần\n",
    "- workingday: nếu không phải cuối tuần hay ngày lễ thì là 1 <-> ngược lại là 0\n",
    "- weathersit:\n",
    "-- 1: trời trong, ít mây, nhiều mây, có mây\n",
    "-- 2: sương mù + nhiều mây, sương mù + mây rải rác, sương mù + vài đám mây, sương mù\n",
    "-- 3: tuyết nhẹ, mưa nhẹ + giông bão + mây rải rác, mưa nhẹ + mây rải rác\n",
    "-- 4: mưa lớn + mưa đá, giông bão + sương mù, tuyết + sương mù\n",
    "- temp: nhiệt độ môi trường (tính theo độ C) - đã được chuẩn hóa chia cho 41 (max)\n",
    "- atemp: nhiệt độ theo cảm nhận (tính theo độ C) - đã được chuẩn hóa chia cho 50 (max)\n",
    "- hum: độ ẩm - đã được chuẩn hóa chia cho 100 (max)\n",
    "- cnt: số lượng xe đạp thuê"
   ],
   "metadata": {
    "collapsed": false
   }
  },
  {
   "cell_type": "code",
   "execution_count": 5,
   "outputs": [
    {
     "data": {
      "text/plain": "          id  season  yr  mnth  hr  holiday  weekday  workingday  \\\n12160  12160       2   1     4   9        0        5           1   \n12161  12161       2   1     5  17        0        5           1   \n12162  12162       3   0     8  12        0        3           1   \n12163  12163       1   0     2   7        0        2           1   \n12164  12164       4   1    10   8        0        4           1   \n\n           weathersit  temp   atemp   hum  windspeed  cnt  \n12160    Weather good  0.46  0.4545  0.88     0.0896  359  \n12161    Weather good  0.66  0.6212  0.34     0.1343  812  \n12162    Weather good  0.80  0.7273  0.43     0.2836  189  \n12163    Weather good  0.24  0.1970  0.65     0.4179  100  \n12164  Weather medium  0.52  0.5000  0.83     0.1642  779  ",
      "text/html": "<div>\n<style scoped>\n    .dataframe tbody tr th:only-of-type {\n        vertical-align: middle;\n    }\n\n    .dataframe tbody tr th {\n        vertical-align: top;\n    }\n\n    .dataframe thead th {\n        text-align: right;\n    }\n</style>\n<table border=\"1\" class=\"dataframe\">\n  <thead>\n    <tr style=\"text-align: right;\">\n      <th></th>\n      <th>id</th>\n      <th>season</th>\n      <th>yr</th>\n      <th>mnth</th>\n      <th>hr</th>\n      <th>holiday</th>\n      <th>weekday</th>\n      <th>workingday</th>\n      <th>weathersit</th>\n      <th>temp</th>\n      <th>atemp</th>\n      <th>hum</th>\n      <th>windspeed</th>\n      <th>cnt</th>\n    </tr>\n  </thead>\n  <tbody>\n    <tr>\n      <th>12160</th>\n      <td>12160</td>\n      <td>2</td>\n      <td>1</td>\n      <td>4</td>\n      <td>9</td>\n      <td>0</td>\n      <td>5</td>\n      <td>1</td>\n      <td>Weather good</td>\n      <td>0.46</td>\n      <td>0.4545</td>\n      <td>0.88</td>\n      <td>0.0896</td>\n      <td>359</td>\n    </tr>\n    <tr>\n      <th>12161</th>\n      <td>12161</td>\n      <td>2</td>\n      <td>1</td>\n      <td>5</td>\n      <td>17</td>\n      <td>0</td>\n      <td>5</td>\n      <td>1</td>\n      <td>Weather good</td>\n      <td>0.66</td>\n      <td>0.6212</td>\n      <td>0.34</td>\n      <td>0.1343</td>\n      <td>812</td>\n    </tr>\n    <tr>\n      <th>12162</th>\n      <td>12162</td>\n      <td>3</td>\n      <td>0</td>\n      <td>8</td>\n      <td>12</td>\n      <td>0</td>\n      <td>3</td>\n      <td>1</td>\n      <td>Weather good</td>\n      <td>0.80</td>\n      <td>0.7273</td>\n      <td>0.43</td>\n      <td>0.2836</td>\n      <td>189</td>\n    </tr>\n    <tr>\n      <th>12163</th>\n      <td>12163</td>\n      <td>1</td>\n      <td>0</td>\n      <td>2</td>\n      <td>7</td>\n      <td>0</td>\n      <td>2</td>\n      <td>1</td>\n      <td>Weather good</td>\n      <td>0.24</td>\n      <td>0.1970</td>\n      <td>0.65</td>\n      <td>0.4179</td>\n      <td>100</td>\n    </tr>\n    <tr>\n      <th>12164</th>\n      <td>12164</td>\n      <td>4</td>\n      <td>1</td>\n      <td>10</td>\n      <td>8</td>\n      <td>0</td>\n      <td>4</td>\n      <td>1</td>\n      <td>Weather medium</td>\n      <td>0.52</td>\n      <td>0.5000</td>\n      <td>0.83</td>\n      <td>0.1642</td>\n      <td>779</td>\n    </tr>\n  </tbody>\n</table>\n</div>"
     },
     "execution_count": 5,
     "metadata": {},
     "output_type": "execute_result"
    }
   ],
   "source": [
    "df.tail()"
   ],
   "metadata": {
    "collapsed": false,
    "pycharm": {
     "name": "#%%\n"
    }
   }
  },
  {
   "cell_type": "code",
   "execution_count": 784,
   "outputs": [
    {
     "data": {
      "text/plain": "                 id        season            yr          mnth            hr  \\\ncount  12165.000000  12165.000000  12165.000000  12165.000000  12165.000000   \nmean    6082.000000      2.510399      0.501767      6.562351     11.579038   \nstd     3511.877347      1.105498      0.500017      3.430356      6.925790   \nmin        0.000000      1.000000      0.000000      1.000000      0.000000   \n25%     3041.000000      2.000000      0.000000      4.000000      6.000000   \n50%     6082.000000      3.000000      1.000000      7.000000     12.000000   \n75%     9123.000000      3.000000      1.000000     10.000000     18.000000   \nmax    12164.000000      4.000000      1.000000     12.000000     23.000000   \n\n            holiday       weekday    workingday    weathersit          temp  \\\ncount  12165.000000  12165.000000  12165.000000  12165.000000  12165.000000   \nmean       0.027949      3.004603      0.681381      1.426634      0.498058   \nstd        0.164834      2.010245      0.465960      0.639961      0.193085   \nmin        0.000000      0.000000      0.000000      1.000000      0.020000   \n25%        0.000000      1.000000      0.000000      1.000000      0.340000   \n50%        0.000000      3.000000      1.000000      1.000000      0.500000   \n75%        0.000000      5.000000      1.000000      2.000000      0.660000   \nmax        1.000000      6.000000      1.000000      4.000000      1.000000   \n\n              atemp           hum     windspeed           cnt  \ncount  12165.000000  12165.000000  12165.000000  12165.000000  \nmean       0.476826      0.627472      0.189457    191.237649  \nstd        0.172369      0.193316      0.122025    182.900931  \nmin        0.000000      0.000000      0.000000      1.000000  \n25%        0.333300      0.480000      0.104500     40.000000  \n50%        0.484800      0.630000      0.164200    145.000000  \n75%        0.621200      0.790000      0.253700    282.000000  \nmax        0.984800      1.000000      0.850700    976.000000  ",
      "text/html": "<div>\n<style scoped>\n    .dataframe tbody tr th:only-of-type {\n        vertical-align: middle;\n    }\n\n    .dataframe tbody tr th {\n        vertical-align: top;\n    }\n\n    .dataframe thead th {\n        text-align: right;\n    }\n</style>\n<table border=\"1\" class=\"dataframe\">\n  <thead>\n    <tr style=\"text-align: right;\">\n      <th></th>\n      <th>id</th>\n      <th>season</th>\n      <th>yr</th>\n      <th>mnth</th>\n      <th>hr</th>\n      <th>holiday</th>\n      <th>weekday</th>\n      <th>workingday</th>\n      <th>weathersit</th>\n      <th>temp</th>\n      <th>atemp</th>\n      <th>hum</th>\n      <th>windspeed</th>\n      <th>cnt</th>\n    </tr>\n  </thead>\n  <tbody>\n    <tr>\n      <th>count</th>\n      <td>12165.000000</td>\n      <td>12165.000000</td>\n      <td>12165.000000</td>\n      <td>12165.000000</td>\n      <td>12165.000000</td>\n      <td>12165.000000</td>\n      <td>12165.000000</td>\n      <td>12165.000000</td>\n      <td>12165.000000</td>\n      <td>12165.000000</td>\n      <td>12165.000000</td>\n      <td>12165.000000</td>\n      <td>12165.000000</td>\n      <td>12165.000000</td>\n    </tr>\n    <tr>\n      <th>mean</th>\n      <td>6082.000000</td>\n      <td>2.510399</td>\n      <td>0.501767</td>\n      <td>6.562351</td>\n      <td>11.579038</td>\n      <td>0.027949</td>\n      <td>3.004603</td>\n      <td>0.681381</td>\n      <td>1.426634</td>\n      <td>0.498058</td>\n      <td>0.476826</td>\n      <td>0.627472</td>\n      <td>0.189457</td>\n      <td>191.237649</td>\n    </tr>\n    <tr>\n      <th>std</th>\n      <td>3511.877347</td>\n      <td>1.105498</td>\n      <td>0.500017</td>\n      <td>3.430356</td>\n      <td>6.925790</td>\n      <td>0.164834</td>\n      <td>2.010245</td>\n      <td>0.465960</td>\n      <td>0.639961</td>\n      <td>0.193085</td>\n      <td>0.172369</td>\n      <td>0.193316</td>\n      <td>0.122025</td>\n      <td>182.900931</td>\n    </tr>\n    <tr>\n      <th>min</th>\n      <td>0.000000</td>\n      <td>1.000000</td>\n      <td>0.000000</td>\n      <td>1.000000</td>\n      <td>0.000000</td>\n      <td>0.000000</td>\n      <td>0.000000</td>\n      <td>0.000000</td>\n      <td>1.000000</td>\n      <td>0.020000</td>\n      <td>0.000000</td>\n      <td>0.000000</td>\n      <td>0.000000</td>\n      <td>1.000000</td>\n    </tr>\n    <tr>\n      <th>25%</th>\n      <td>3041.000000</td>\n      <td>2.000000</td>\n      <td>0.000000</td>\n      <td>4.000000</td>\n      <td>6.000000</td>\n      <td>0.000000</td>\n      <td>1.000000</td>\n      <td>0.000000</td>\n      <td>1.000000</td>\n      <td>0.340000</td>\n      <td>0.333300</td>\n      <td>0.480000</td>\n      <td>0.104500</td>\n      <td>40.000000</td>\n    </tr>\n    <tr>\n      <th>50%</th>\n      <td>6082.000000</td>\n      <td>3.000000</td>\n      <td>1.000000</td>\n      <td>7.000000</td>\n      <td>12.000000</td>\n      <td>0.000000</td>\n      <td>3.000000</td>\n      <td>1.000000</td>\n      <td>1.000000</td>\n      <td>0.500000</td>\n      <td>0.484800</td>\n      <td>0.630000</td>\n      <td>0.164200</td>\n      <td>145.000000</td>\n    </tr>\n    <tr>\n      <th>75%</th>\n      <td>9123.000000</td>\n      <td>3.000000</td>\n      <td>1.000000</td>\n      <td>10.000000</td>\n      <td>18.000000</td>\n      <td>0.000000</td>\n      <td>5.000000</td>\n      <td>1.000000</td>\n      <td>2.000000</td>\n      <td>0.660000</td>\n      <td>0.621200</td>\n      <td>0.790000</td>\n      <td>0.253700</td>\n      <td>282.000000</td>\n    </tr>\n    <tr>\n      <th>max</th>\n      <td>12164.000000</td>\n      <td>4.000000</td>\n      <td>1.000000</td>\n      <td>12.000000</td>\n      <td>23.000000</td>\n      <td>1.000000</td>\n      <td>6.000000</td>\n      <td>1.000000</td>\n      <td>4.000000</td>\n      <td>1.000000</td>\n      <td>0.984800</td>\n      <td>1.000000</td>\n      <td>0.850700</td>\n      <td>976.000000</td>\n    </tr>\n  </tbody>\n</table>\n</div>"
     },
     "execution_count": 784,
     "metadata": {},
     "output_type": "execute_result"
    }
   ],
   "source": [
    "df.describe()"
   ],
   "metadata": {
    "collapsed": false,
    "pycharm": {
     "name": "#%%\n"
    }
   }
  },
  {
   "cell_type": "markdown",
   "source": [
    "###### Trong từng cột"
   ],
   "metadata": {
    "collapsed": false
   }
  },
  {
   "cell_type": "markdown",
   "source": [
    "Xem phân phối của từng cột một"
   ],
   "metadata": {
    "collapsed": false
   }
  },
  {
   "cell_type": "code",
   "execution_count": 785,
   "outputs": [
    {
     "data": {
      "text/plain": "<AxesSubplot:>"
     },
     "execution_count": 785,
     "metadata": {},
     "output_type": "execute_result"
    },
    {
     "data": {
      "text/plain": "<Figure size 432x288 with 1 Axes>",
      "image/png": "[encoded data removed]"
     },
     "metadata": {
      "needs_background": "light"
     },
     "output_type": "display_data"
    }
   ],
   "source": [
    "df['mnth'].hist()"
   ],
   "metadata": {
    "collapsed": false,
    "pycharm": {
     "name": "#%%\n"
    }
   }
  },
  {
   "cell_type": "markdown",
   "source": [
    "Kiểm tra xem có dữ liệu trống không"
   ],
   "metadata": {
    "collapsed": false
   }
  },
  {
   "cell_type": "code",
   "execution_count": 786,
   "outputs": [
    {
     "data": {
      "text/plain": "Empty DataFrame\nColumns: [id, season, yr, mnth, hr, holiday, weekday, workingday, weathersit, temp, atemp, hum, windspeed, cnt]\nIndex: []",
      "text/html": "<div>\n<style scoped>\n    .dataframe tbody tr th:only-of-type {\n        vertical-align: middle;\n    }\n\n    .dataframe tbody tr th {\n        vertical-align: top;\n    }\n\n    .dataframe thead th {\n        text-align: right;\n    }\n</style>\n<table border=\"1\" class=\"dataframe\">\n  <thead>\n    <tr style=\"text-align: right;\">\n      <th></th>\n      <th>id</th>\n      <th>season</th>\n      <th>yr</th>\n      <th>mnth</th>\n      <th>hr</th>\n      <th>holiday</th>\n      <th>weekday</th>\n      <th>workingday</th>\n      <th>weathersit</th>\n      <th>temp</th>\n      <th>atemp</th>\n      <th>hum</th>\n      <th>windspeed</th>\n      <th>cnt</th>\n    </tr>\n  </thead>\n  <tbody>\n  </tbody>\n</table>\n</div>"
     },
     "execution_count": 786,
     "metadata": {},
     "output_type": "execute_result"
    }
   ],
   "source": [
    "df[pd.isnull(df).any(axis=1)].head()"
   ],
   "metadata": {
    "collapsed": false,
    "pycharm": {
     "name": "#%%\n"
    }
   }
  },
  {
   "cell_type": "markdown",
   "source": [
    "###### Giữa các cột với nhau"
   ],
   "metadata": {
    "collapsed": false
   }
  },
  {
   "cell_type": "markdown",
   "source": [
    "Sự tương quan giữa từng cột"
   ],
   "metadata": {
    "collapsed": false
   }
  },
  {
   "cell_type": "code",
   "execution_count": 787,
   "outputs": [
    {
     "data": {
      "text/plain": "                  id    season        yr      mnth        hr   holiday  \\\nid          1.000000 -0.003323  0.011902 -0.004192 -0.000969 -0.011641   \nseason     -0.003323  1.000000 -0.001111  0.827319 -0.007701 -0.006107   \nyr          0.011902 -0.001111  1.000000 -0.003144 -0.001957  0.001396   \nmnth       -0.004192  0.827319 -0.003144  1.000000 -0.004738  0.024106   \nhr         -0.000969 -0.007701 -0.001957 -0.004738  1.000000 -0.002439   \nholiday    -0.011641 -0.006107  0.001396  0.024106 -0.002439  1.000000   \nweekday    -0.001304  0.003567 -0.003280  0.017173 -0.004006 -0.096900   \nworkingday -0.013339  0.010901 -0.003934 -0.005417  0.006454 -0.247969   \nweathersit -0.003586 -0.025561 -0.022653 -0.002606 -0.027622 -0.017189   \ntemp       -0.010314  0.308525  0.042773  0.197423  0.143827 -0.026088   \natemp      -0.009034  0.315714  0.041106  0.203675  0.140352 -0.029282   \nhum         0.008758  0.149357 -0.089438  0.160911 -0.277284 -0.005858   \nwindspeed   0.006970 -0.150996 -0.005550 -0.135482  0.133948  0.002460   \ncnt         0.001353  0.183018  0.260010  0.125193  0.391127 -0.033390   \n\n             weekday  workingday  weathersit      temp     atemp       hum  \\\nid         -0.001304   -0.013339   -0.003586 -0.010314 -0.009034  0.008758   \nseason      0.003567    0.010901   -0.025561  0.308525  0.315714  0.149357   \nyr         -0.003280   -0.003934   -0.022653  0.042773  0.041106 -0.089438   \nmnth        0.017173   -0.005417   -0.002606  0.197423  0.203675  0.160911   \nhr         -0.004006    0.006454   -0.027622  0.143827  0.140352 -0.277284   \nholiday    -0.096900   -0.247969   -0.017189 -0.026088 -0.029282 -0.005858   \nweekday     1.000000    0.036760    0.011318 -0.004416 -0.010801 -0.033904   \nworkingday  0.036760    1.000000    0.042079  0.052608  0.051251  0.010260   \nweathersit  0.011318    0.042079    1.000000 -0.105639 -0.109531  0.419205   \ntemp       -0.004416    0.052608   -0.105639  1.000000  0.988169 -0.075808   \natemp      -0.010801    0.051251   -0.109531  0.988169  1.000000 -0.059310   \nhum        -0.033904    0.010260    0.419205 -0.075808 -0.059310  1.000000   \nwindspeed   0.016329   -0.016068    0.018128 -0.023870 -0.062034 -0.294989   \ncnt         0.022613    0.030143   -0.146495  0.402784  0.399267 -0.325786   \n\n            windspeed       cnt  \nid           0.006970  0.001353  \nseason      -0.150996  0.183018  \nyr          -0.005550  0.260010  \nmnth        -0.135482  0.125193  \nhr           0.133948  0.391127  \nholiday      0.002460 -0.033390  \nweekday      0.016329  0.022613  \nworkingday  -0.016068  0.030143  \nweathersit   0.018128 -0.146495  \ntemp        -0.023870  0.402784  \natemp       -0.062034  0.399267  \nhum         -0.294989 -0.325786  \nwindspeed    1.000000  0.090910  \ncnt          0.090910  1.000000  ",
      "text/html": "<div>\n<style scoped>\n    .dataframe tbody tr th:only-of-type {\n        vertical-align: middle;\n    }\n\n    .dataframe tbody tr th {\n        vertical-align: top;\n    }\n\n    .dataframe thead th {\n        text-align: right;\n    }\n</style>\n<table border=\"1\" class=\"dataframe\">\n  <thead>\n    <tr style=\"text-align: right;\">\n      <th></th>\n      <th>id</th>\n      <th>season</th>\n      <th>yr</th>\n      <th>mnth</th>\n      <th>hr</th>\n      <th>holiday</th>\n      <th>weekday</th>\n      <th>workingday</th>\n      <th>weathersit</th>\n      <th>temp</th>\n      <th>atemp</th>\n      <th>hum</th>\n      <th>windspeed</th>\n      <th>cnt</th>\n    </tr>\n  </thead>\n  <tbody>\n    <tr>\n      <th>id</th>\n      <td>1.000000</td>\n      <td>-0.003323</td>\n      <td>0.011902</td>\n      <td>-0.004192</td>\n      <td>-0.000969</td>\n      <td>-0.011641</td>\n      <td>-0.001304</td>\n      <td>-0.013339</td>\n      <td>-0.003586</td>\n      <td>-0.010314</td>\n      <td>-0.009034</td>\n      <td>0.008758</td>\n      <td>0.006970</td>\n      <td>0.001353</td>\n    </tr>\n    <tr>\n      <th>season</th>\n      <td>-0.003323</td>\n      <td>1.000000</td>\n      <td>-0.001111</td>\n      <td>0.827319</td>\n      <td>-0.007701</td>\n      <td>-0.006107</td>\n      <td>0.003567</td>\n      <td>0.010901</td>\n      <td>-0.025561</td>\n      <td>0.308525</td>\n      <td>0.315714</td>\n      <td>0.149357</td>\n      <td>-0.150996</td>\n      <td>0.183018</td>\n    </tr>\n    <tr>\n      <th>yr</th>\n      <td>0.011902</td>\n      <td>-0.001111</td>\n      <td>1.000000</td>\n      <td>-0.003144</td>\n      <td>-0.001957</td>\n      <td>0.001396</td>\n      <td>-0.003280</td>\n      <td>-0.003934</td>\n      <td>-0.022653</td>\n      <td>0.042773</td>\n      <td>0.041106</td>\n      <td>-0.089438</td>\n      <td>-0.005550</td>\n      <td>0.260010</td>\n    </tr>\n    <tr>\n      <th>mnth</th>\n      <td>-0.004192</td>\n      <td>0.827319</td>\n      <td>-0.003144</td>\n      <td>1.000000</td>\n      <td>-0.004738</td>\n      <td>0.024106</td>\n      <td>0.017173</td>\n      <td>-0.005417</td>\n      <td>-0.002606</td>\n      <td>0.197423</td>\n      <td>0.203675</td>\n      <td>0.160911</td>\n      <td>-0.135482</td>\n      <td>0.125193</td>\n    </tr>\n    <tr>\n      <th>hr</th>\n      <td>-0.000969</td>\n      <td>-0.007701</td>\n      <td>-0.001957</td>\n      <td>-0.004738</td>\n      <td>1.000000</td>\n      <td>-0.002439</td>\n      <td>-0.004006</td>\n      <td>0.006454</td>\n      <td>-0.027622</td>\n      <td>0.143827</td>\n      <td>0.140352</td>\n      <td>-0.277284</td>\n      <td>0.133948</td>\n      <td>0.391127</td>\n    </tr>\n    <tr>\n      <th>holiday</th>\n      <td>-0.011641</td>\n      <td>-0.006107</td>\n      <td>0.001396</td>\n      <td>0.024106</td>\n      <td>-0.002439</td>\n      <td>1.000000</td>\n      <td>-0.096900</td>\n      <td>-0.247969</td>\n      <td>-0.017189</td>\n      <td>-0.026088</td>\n      <td>-0.029282</td>\n      <td>-0.005858</td>\n      <td>0.002460</td>\n      <td>-0.033390</td>\n    </tr>\n    <tr>\n      <th>weekday</th>\n      <td>-0.001304</td>\n      <td>0.003567</td>\n      <td>-0.003280</td>\n      <td>0.017173</td>\n      <td>-0.004006</td>\n      <td>-0.096900</td>\n      <td>1.000000</td>\n      <td>0.036760</td>\n      <td>0.011318</td>\n      <td>-0.004416</td>\n      <td>-0.010801</td>\n      <td>-0.033904</td>\n      <td>0.016329</td>\n      <td>0.022613</td>\n    </tr>\n    <tr>\n      <th>workingday</th>\n      <td>-0.013339</td>\n      <td>0.010901</td>\n      <td>-0.003934</td>\n      <td>-0.005417</td>\n      <td>0.006454</td>\n      <td>-0.247969</td>\n      <td>0.036760</td>\n      <td>1.000000</td>\n      <td>0.042079</td>\n      <td>0.052608</td>\n      <td>0.051251</td>\n      <td>0.010260</td>\n      <td>-0.016068</td>\n      <td>0.030143</td>\n    </tr>\n    <tr>\n      <th>weathersit</th>\n      <td>-0.003586</td>\n      <td>-0.025561</td>\n      <td>-0.022653</td>\n      <td>-0.002606</td>\n      <td>-0.027622</td>\n      <td>-0.017189</td>\n      <td>0.011318</td>\n      <td>0.042079</td>\n      <td>1.000000</td>\n      <td>-0.105639</td>\n      <td>-0.109531</td>\n      <td>0.419205</td>\n      <td>0.018128</td>\n      <td>-0.146495</td>\n    </tr>\n    <tr>\n      <th>temp</th>\n      <td>-0.010314</td>\n      <td>0.308525</td>\n      <td>0.042773</td>\n      <td>0.197423</td>\n      <td>0.143827</td>\n      <td>-0.026088</td>\n      <td>-0.004416</td>\n      <td>0.052608</td>\n      <td>-0.105639</td>\n      <td>1.000000</td>\n      <td>0.988169</td>\n      <td>-0.075808</td>\n      <td>-0.023870</td>\n      <td>0.402784</td>\n    </tr>\n    <tr>\n      <th>atemp</th>\n      <td>-0.009034</td>\n      <td>0.315714</td>\n      <td>0.041106</td>\n      <td>0.203675</td>\n      <td>0.140352</td>\n      <td>-0.029282</td>\n      <td>-0.010801</td>\n      <td>0.051251</td>\n      <td>-0.109531</td>\n      <td>0.988169</td>\n      <td>1.000000</td>\n      <td>-0.059310</td>\n      <td>-0.062034</td>\n      <td>0.399267</td>\n    </tr>\n    <tr>\n      <th>hum</th>\n      <td>0.008758</td>\n      <td>0.149357</td>\n      <td>-0.089438</td>\n      <td>0.160911</td>\n      <td>-0.277284</td>\n      <td>-0.005858</td>\n      <td>-0.033904</td>\n      <td>0.010260</td>\n      <td>0.419205</td>\n      <td>-0.075808</td>\n      <td>-0.059310</td>\n      <td>1.000000</td>\n      <td>-0.294989</td>\n      <td>-0.325786</td>\n    </tr>\n    <tr>\n      <th>windspeed</th>\n      <td>0.006970</td>\n      <td>-0.150996</td>\n      <td>-0.005550</td>\n      <td>-0.135482</td>\n      <td>0.133948</td>\n      <td>0.002460</td>\n      <td>0.016329</td>\n      <td>-0.016068</td>\n      <td>0.018128</td>\n      <td>-0.023870</td>\n      <td>-0.062034</td>\n      <td>-0.294989</td>\n      <td>1.000000</td>\n      <td>0.090910</td>\n    </tr>\n    <tr>\n      <th>cnt</th>\n      <td>0.001353</td>\n      <td>0.183018</td>\n      <td>0.260010</td>\n      <td>0.125193</td>\n      <td>0.391127</td>\n      <td>-0.033390</td>\n      <td>0.022613</td>\n      <td>0.030143</td>\n      <td>-0.146495</td>\n      <td>0.402784</td>\n      <td>0.399267</td>\n      <td>-0.325786</td>\n      <td>0.090910</td>\n      <td>1.000000</td>\n    </tr>\n  </tbody>\n</table>\n</div>"
     },
     "execution_count": 787,
     "metadata": {},
     "output_type": "execute_result"
    }
   ],
   "source": [
    "df.corr()"
   ],
   "metadata": {
    "collapsed": false,
    "pycharm": {
     "name": "#%%\n"
    }
   }
  },
  {
   "cell_type": "markdown",
   "source": [
    "Hiển thị hình ảnh sự tương quan"
   ],
   "metadata": {
    "collapsed": false
   }
  },
  {
   "cell_type": "code",
   "execution_count": 788,
   "outputs": [
    {
     "data": {
      "text/plain": "<Figure size 288x288 with 2 Axes>",
      "image/png": "[encoded data removed]"
     },
     "metadata": {
      "needs_background": "light"
     },
     "output_type": "display_data"
    }
   ],
   "source": [
    "plt.matshow(df.corr())\n",
    "continuous_feature = df.describe().columns\n",
    "plt.xticks(range(len(continuous_feature)), continuous_feature, rotation = 45)\n",
    "plt.yticks(range(len(continuous_feature)), continuous_feature, rotation = 45)\n",
    "plt.colorbar()\n",
    "plt.show()"
   ],
   "metadata": {
    "collapsed": false,
    "pycharm": {
     "name": "#%%\n"
    }
   }
  },
  {
   "cell_type": "markdown",
   "source": [
    "### Làm giàu dữ liệu"
   ],
   "metadata": {
    "collapsed": false
   }
  },
  {
   "cell_type": "markdown",
   "source": [
    "Biến đổi One Hot"
   ],
   "metadata": {
    "collapsed": false
   }
  },
  {
   "cell_type": "code",
   "execution_count": 789,
   "outputs": [],
   "source": [
    "def change_one_hot(dt_tmp):\n",
    "    dt_tmp['weathersit'] = dt_tmp['weathersit'].map({1: 'Weather good', 2: 'Weather medium', 3:'Weather Not Good', 4:'Weather danger'})\n",
    "    dt_tmp = pd.get_dummies(dt_tmp, columns=['weathersit'], prefix='', prefix_sep='')\n",
    "    return dt_tmp"
   ],
   "metadata": {
    "collapsed": false,
    "pycharm": {
     "name": "#%%\n"
    }
   }
  },
  {
   "cell_type": "markdown",
   "source": [
    "### Loại bỏ thuộc tính"
   ],
   "metadata": {
    "collapsed": false
   }
  },
  {
   "cell_type": "code",
   "execution_count": 790,
   "outputs": [],
   "source": [
    "def drop_feature(df):\n",
    "    df = df.drop(['temp', 'id'], axis = 1)\n",
    "    return df"
   ],
   "metadata": {
    "collapsed": false,
    "pycharm": {
     "name": "#%%\n"
    }
   }
  },
  {
   "cell_type": "markdown",
   "source": [
    "### Chuẩn hóa"
   ],
   "metadata": {
    "collapsed": false
   }
  },
  {
   "cell_type": "markdown",
   "source": [
    "#### Min max scaler"
   ],
   "metadata": {
    "collapsed": false
   }
  },
  {
   "cell_type": "code",
   "execution_count": 791,
   "outputs": [],
   "source": [
    "min_max_scaler = MinMaxScaler()\n",
    "normalize_mm = ['mnth','hr','weekday']"
   ],
   "metadata": {
    "collapsed": false,
    "pycharm": {
     "name": "#%%\n"
    }
   }
  },
  {
   "cell_type": "markdown",
   "source": [
    "Trên tập train"
   ],
   "metadata": {
    "collapsed": false
   }
  },
  {
   "cell_type": "code",
   "execution_count": 792,
   "outputs": [],
   "source": [
    "x = df[normalize_mm].values\n",
    "x_scaled = min_max_scaler.fit_transform(x)\n",
    "normalized_features = pd.DataFrame(x_scaled, columns=normalize_mm, index = df.index)\n",
    "df[normalize_mm] = normalized_features"
   ],
   "metadata": {
    "collapsed": false,
    "pycharm": {
     "name": "#%%\n"
    }
   }
  },
  {
   "cell_type": "markdown",
   "source": [
    "Trên tập còn lại"
   ],
   "metadata": {
    "collapsed": false
   }
  },
  {
   "cell_type": "code",
   "execution_count": 793,
   "outputs": [],
   "source": [
    "def minmax(df_tmp):\n",
    "    x = df_tmp[normalize_mm].values\n",
    "    x_scaled = min_max_scaler.transform(x)\n",
    "    normalized_features = pd.DataFrame(x_scaled, columns=normalize_mm, index = df_tmp.index)\n",
    "    return normalized_features"
   ],
   "metadata": {
    "collapsed": false,
    "pycharm": {
     "name": "#%%\n"
    }
   }
  },
  {
   "cell_type": "markdown",
   "source": [
    "#### Standard Scaler"
   ],
   "metadata": {
    "collapsed": false
   }
  },
  {
   "cell_type": "code",
   "execution_count": 794,
   "outputs": [],
   "source": [
    "standard_scaler = StandardScaler()\n",
    "normalized_ss = ['season']"
   ],
   "metadata": {
    "collapsed": false,
    "pycharm": {
     "name": "#%%\n"
    }
   }
  },
  {
   "cell_type": "code",
   "execution_count": 795,
   "outputs": [],
   "source": [
    "x = df[normalized_ss].values\n",
    "x_scaled = standard_scaler.fit_transform(x)\n",
    "normalized_features = pd.DataFrame(x_scaled, columns=normalized_ss, index = df.index)\n",
    "df[normalized_ss] = normalized_features"
   ],
   "metadata": {
    "collapsed": false,
    "pycharm": {
     "name": "#%%\n"
    }
   }
  },
  {
   "cell_type": "code",
   "execution_count": 796,
   "outputs": [],
   "source": [
    "def standard(df_tmp):\n",
    "    x = df_tmp[normalized_ss].values\n",
    "    x_scaled = standard_scaler.transform(x)\n",
    "    normalized_features = pd.DataFrame(x_scaled, columns = normalized_ss, index = df_tmp.index)\n",
    "    return normalized_features"
   ],
   "metadata": {
    "collapsed": false,
    "pycharm": {
     "name": "#%%\n"
    }
   }
  },
  {
   "cell_type": "markdown",
   "source": [
    "### Chia dữ liệu"
   ],
   "metadata": {
    "collapsed": false
   }
  },
  {
   "cell_type": "markdown",
   "source": [
    "Chia nhãn và dữ liệu train"
   ],
   "metadata": {
    "collapsed": false
   }
  },
  {
   "cell_type": "code",
   "execution_count": 797,
   "outputs": [],
   "source": [
    "df = change_one_hot(df)\n",
    "df = drop_feature(df)"
   ],
   "metadata": {
    "collapsed": false,
    "pycharm": {
     "name": "#%%\n"
    }
   }
  },
  {
   "cell_type": "code",
   "execution_count": 798,
   "outputs": [],
   "source": [
    "feature_data = df.drop(['cnt'], axis = 1)\n",
    "label_data = df['cnt']"
   ],
   "metadata": {
    "collapsed": false,
    "pycharm": {
     "name": "#%%\n"
    }
   }
  },
  {
   "cell_type": "markdown",
   "source": [
    "Chia tập dữ liệu train và validation"
   ],
   "metadata": {
    "collapsed": false
   }
  },
  {
   "cell_type": "code",
   "execution_count": 799,
   "outputs": [
    {
     "data": {
      "text/plain": "((12043, 14), (122, 14), (12043,), (122,))"
     },
     "execution_count": 799,
     "metadata": {},
     "output_type": "execute_result"
    }
   ],
   "source": [
    "x_train, x_test, y_train, y_test = train_test_split(feature_data, label_data, test_size = 0.01, random_state = 50)\n",
    "x_train.shape, x_test.shape, y_train.shape, y_test.shape"
   ],
   "metadata": {
    "collapsed": false,
    "pycharm": {
     "name": "#%%\n"
    }
   }
  },
  {
   "cell_type": "markdown",
   "source": [
    "# III. Model"
   ],
   "metadata": {
    "collapsed": false
   }
  },
  {
   "cell_type": "code",
   "execution_count": 800,
   "outputs": [],
   "source": [
    "model = XGBRegressor()"
   ],
   "metadata": {
    "collapsed": false,
    "pycharm": {
     "name": "#%%\n"
    }
   }
  },
  {
   "cell_type": "markdown",
   "source": [
    "# IV. Train"
   ],
   "metadata": {
    "collapsed": false
   }
  },
  {
   "cell_type": "code",
   "execution_count": 801,
   "outputs": [
    {
     "data": {
      "text/plain": "         season  yr      mnth        hr  holiday   weekday  workingday  \\\n11792  1.347504   0  1.000000  0.086957        0  0.166667           1   \n3559   1.347504   0  0.909091  0.347826        0  0.500000           1   \n1912   0.442897   0  0.636364  0.304348        0  0.833333           1   \n12059  1.347504   0  0.909091  0.217391        0  0.666667           1   \n3505  -0.461710   0  0.272727  0.521739        0  0.333333           1   \n...         ...  ..       ...       ...      ...       ...         ...   \n8324  -0.461710   0  0.363636  0.043478        0  0.500000           1   \n10206 -1.366317   0  0.181818  0.260870        0  0.500000           1   \n6253   1.347504   0  0.818182  0.391304        0  0.500000           1   \n10123 -1.366317   0  0.090909  0.782609        0  1.000000           0   \n5600   1.347504   1  0.909091  0.913043        0  0.166667           1   \n\n        atemp   hum  windspeed  Weather Not Good  Weather danger  \\\n11792  0.3485  0.87     0.0000                 0               0   \n3559   0.3485  0.93     0.0000                 0               0   \n1912   0.5758  0.83     0.0000                 0               0   \n12059  0.3030  0.71     0.3284                 1               0   \n3505   0.5152  0.64     0.0896                 0               0   \n...       ...   ...        ...               ...             ...   \n8324   0.5455  0.83     0.1940                 1               0   \n10206  0.2121  0.55     0.2537                 0               0   \n6253   0.5152  0.88     0.4478                 0               0   \n10123  0.2576  0.38     0.3284                 0               0   \n5600   0.2879  0.52     0.2836                 0               0   \n\n       Weather good  Weather medium  \n11792             1               0  \n3559              1               0  \n1912              1               0  \n12059             0               0  \n3505              0               1  \n...             ...             ...  \n8324              0               0  \n10206             1               0  \n6253              0               1  \n10123             1               0  \n5600              1               0  \n\n[12043 rows x 14 columns]",
      "text/html": "<div>\n<style scoped>\n    .dataframe tbody tr th:only-of-type {\n        vertical-align: middle;\n    }\n\n    .dataframe tbody tr th {\n        vertical-align: top;\n    }\n\n    .dataframe thead th {\n        text-align: right;\n    }\n</style>\n<table border=\"1\" class=\"dataframe\">\n  <thead>\n    <tr style=\"text-align: right;\">\n      <th></th>\n      <th>season</th>\n      <th>yr</th>\n      <th>mnth</th>\n      <th>hr</th>\n      <th>holiday</th>\n      <th>weekday</th>\n      <th>workingday</th>\n      <th>atemp</th>\n      <th>hum</th>\n      <th>windspeed</th>\n      <th>Weather Not Good</th>\n      <th>Weather danger</th>\n      <th>Weather good</th>\n      <th>Weather medium</th>\n    </tr>\n  </thead>\n  <tbody>\n    <tr>\n      <th>11792</th>\n      <td>1.347504</td>\n      <td>0</td>\n      <td>1.000000</td>\n      <td>0.086957</td>\n      <td>0</td>\n      <td>0.166667</td>\n      <td>1</td>\n      <td>0.3485</td>\n      <td>0.87</td>\n      <td>0.0000</td>\n      <td>0</td>\n      <td>0</td>\n      <td>1</td>\n      <td>0</td>\n    </tr>\n    <tr>\n      <th>3559</th>\n      <td>1.347504</td>\n      <td>0</td>\n      <td>0.909091</td>\n      <td>0.347826</td>\n      <td>0</td>\n      <td>0.500000</td>\n      <td>1</td>\n      <td>0.3485</td>\n      <td>0.93</td>\n      <td>0.0000</td>\n      <td>0</td>\n      <td>0</td>\n      <td>1</td>\n      <td>0</td>\n    </tr>\n    <tr>\n      <th>1912</th>\n      <td>0.442897</td>\n      <td>0</td>\n      <td>0.636364</td>\n      <td>0.304348</td>\n      <td>0</td>\n      <td>0.833333</td>\n      <td>1</td>\n      <td>0.5758</td>\n      <td>0.83</td>\n      <td>0.0000</td>\n      <td>0</td>\n      <td>0</td>\n      <td>1</td>\n      <td>0</td>\n    </tr>\n    <tr>\n      <th>12059</th>\n      <td>1.347504</td>\n      <td>0</td>\n      <td>0.909091</td>\n      <td>0.217391</td>\n      <td>0</td>\n      <td>0.666667</td>\n      <td>1</td>\n      <td>0.3030</td>\n      <td>0.71</td>\n      <td>0.3284</td>\n      <td>1</td>\n      <td>0</td>\n      <td>0</td>\n      <td>0</td>\n    </tr>\n    <tr>\n      <th>3505</th>\n      <td>-0.461710</td>\n      <td>0</td>\n      <td>0.272727</td>\n      <td>0.521739</td>\n      <td>0</td>\n      <td>0.333333</td>\n      <td>1</td>\n      <td>0.5152</td>\n      <td>0.64</td>\n      <td>0.0896</td>\n      <td>0</td>\n      <td>0</td>\n      <td>0</td>\n      <td>1</td>\n    </tr>\n    <tr>\n      <th>...</th>\n      <td>...</td>\n      <td>...</td>\n      <td>...</td>\n      <td>...</td>\n      <td>...</td>\n      <td>...</td>\n      <td>...</td>\n      <td>...</td>\n      <td>...</td>\n      <td>...</td>\n      <td>...</td>\n      <td>...</td>\n      <td>...</td>\n      <td>...</td>\n    </tr>\n    <tr>\n      <th>8324</th>\n      <td>-0.461710</td>\n      <td>0</td>\n      <td>0.363636</td>\n      <td>0.043478</td>\n      <td>0</td>\n      <td>0.500000</td>\n      <td>1</td>\n      <td>0.5455</td>\n      <td>0.83</td>\n      <td>0.1940</td>\n      <td>1</td>\n      <td>0</td>\n      <td>0</td>\n      <td>0</td>\n    </tr>\n    <tr>\n      <th>10206</th>\n      <td>-1.366317</td>\n      <td>0</td>\n      <td>0.181818</td>\n      <td>0.260870</td>\n      <td>0</td>\n      <td>0.500000</td>\n      <td>1</td>\n      <td>0.2121</td>\n      <td>0.55</td>\n      <td>0.2537</td>\n      <td>0</td>\n      <td>0</td>\n      <td>1</td>\n      <td>0</td>\n    </tr>\n    <tr>\n      <th>6253</th>\n      <td>1.347504</td>\n      <td>0</td>\n      <td>0.818182</td>\n      <td>0.391304</td>\n      <td>0</td>\n      <td>0.500000</td>\n      <td>1</td>\n      <td>0.5152</td>\n      <td>0.88</td>\n      <td>0.4478</td>\n      <td>0</td>\n      <td>0</td>\n      <td>0</td>\n      <td>1</td>\n    </tr>\n    <tr>\n      <th>10123</th>\n      <td>-1.366317</td>\n      <td>0</td>\n      <td>0.090909</td>\n      <td>0.782609</td>\n      <td>0</td>\n      <td>1.000000</td>\n      <td>0</td>\n      <td>0.2576</td>\n      <td>0.38</td>\n      <td>0.3284</td>\n      <td>0</td>\n      <td>0</td>\n      <td>1</td>\n      <td>0</td>\n    </tr>\n    <tr>\n      <th>5600</th>\n      <td>1.347504</td>\n      <td>1</td>\n      <td>0.909091</td>\n      <td>0.913043</td>\n      <td>0</td>\n      <td>0.166667</td>\n      <td>1</td>\n      <td>0.2879</td>\n      <td>0.52</td>\n      <td>0.2836</td>\n      <td>0</td>\n      <td>0</td>\n      <td>1</td>\n      <td>0</td>\n    </tr>\n  </tbody>\n</table>\n<p>12043 rows × 14 columns</p>\n</div>"
     },
     "execution_count": 801,
     "metadata": {},
     "output_type": "execute_result"
    }
   ],
   "source": [
    "x_train"
   ],
   "metadata": {
    "collapsed": false,
    "pycharm": {
     "name": "#%%\n"
    }
   }
  },
  {
   "cell_type": "code",
   "execution_count": 814,
   "outputs": [],
   "source": [
    "solution = model.fit(x_train, y_train)"
   ],
   "metadata": {
    "collapsed": false,
    "pycharm": {
     "name": "#%%\n"
    }
   }
  },
  {
   "cell_type": "markdown",
   "source": [
    "Tính xem y_test bằng bao nhiêu"
   ],
   "metadata": {
    "collapsed": false
   }
  },
  {
   "cell_type": "code",
   "execution_count": 803,
   "outputs": [
    {
     "data": {
      "text/plain": "array([ 19.208984  , 175.94589   ,   9.315122  , 509.19324   ,\n       265.5854    ,  73.77536   ,  89.18094   ,  46.978497  ,\n       153.88129   , 252.27805   , 376.39542   , 471.6914    ,\n       236.62166   , 168.4762    ,  75.12524   ,  15.532818  ,\n         7.4201    , 100.57254   ,  24.067614  ,   7.1847134 ,\n        93.85168   ,  10.442086  , 230.32994   , 242.37053   ,\n       163.86174   ,  37.412025  ,   5.567876  , 406.82455   ,\n        63.85203   ,  68.00085   , 128.65038   , 214.99187   ,\n       144.6234    ,  78.37969   ,  87.4698    ,  -1.1321554 ,\n       202.82079   , 382.76492   ,  99.21486   , 673.7435    ,\n       156.46698   ,  19.102701  , 262.99704   , 154.54431   ,\n       237.4131    , 184.00345   , 240.07103   , 109.98332   ,\n       384.91156   ,  53.701145  ,  53.361633  ,  93.59213   ,\n       228.21976   ,  80.59782   , 308.60376   , 209.38512   ,\n        43.992767  ,  24.643053  ,  54.951813  , 388.50098   ,\n       538.538     , 273.16495   ,  28.746979  , 245.12193   ,\n         8.862734  , 330.50732   , 224.34247   , 326.92337   ,\n        95.23063   ,  -0.95870054,  47.11283   , 225.92882   ,\n       110.73651   , 236.37012   , 178.4981    ,   7.7365837 ,\n        85.763565  ,  20.792967  , 508.23917   , 142.26918   ,\n        27.381075  , 661.93176   , 103.910385  ,  56.868176  ,\n       559.22797   , 105.95264   , 313.54303   ,  97.84508   ,\n       185.4754    , 170.78578   , 377.32626   ,  94.47523   ,\n         6.284649  ,  50.136196  ,   8.036498  , 273.2059    ,\n        97.29338   , 237.24438   , 389.09863   , 228.83887   ,\n        18.61245   , 166.11073   ,  68.24707   ,  16.344116  ,\n       293.64514   , 486.8252    , 445.9477    , 548.3778    ,\n       141.68326   , 241.12805   , 340.28104   , 145.23271   ,\n        30.075481  , 417.4714    , 100.18434   , 433.77808   ,\n        25.942444  , 322.7512    , 210.44954   , 412.28088   ,\n        24.838099  , 158.93237   ], dtype=float32)"
     },
     "execution_count": 803,
     "metadata": {},
     "output_type": "execute_result"
    }
   ],
   "source": [
    "solution.predict(x_test)"
   ],
   "metadata": {
    "collapsed": false,
    "pycharm": {
     "name": "#%%\n"
    }
   }
  },
  {
   "cell_type": "markdown",
   "source": [
    "Tính mean sque error"
   ],
   "metadata": {
    "collapsed": false
   }
  },
  {
   "cell_type": "code",
   "execution_count": 815,
   "outputs": [
    {
     "data": {
      "text/plain": "1699.6948347651128"
     },
     "execution_count": 815,
     "metadata": {},
     "output_type": "execute_result"
    }
   ],
   "source": [
    "mean_squared_error(solution.predict(x_test), y_test)"
   ],
   "metadata": {
    "collapsed": false,
    "pycharm": {
     "name": "#%%\n"
    }
   }
  },
  {
   "cell_type": "markdown",
   "source": [
    "# V.Submit kaggle"
   ],
   "metadata": {
    "collapsed": false
   }
  },
  {
   "cell_type": "markdown",
   "source": [
    "load data"
   ],
   "metadata": {
    "collapsed": false
   }
  },
  {
   "cell_type": "code",
   "execution_count": 805,
   "outputs": [],
   "source": [
    "submission_feature_path = './dataset/submissionDataset.csv'\n",
    "df_submission_feature = pd.read_csv(submission_feature_path)"
   ],
   "metadata": {
    "collapsed": false,
    "pycharm": {
     "name": "#%%\n"
    }
   }
  },
  {
   "cell_type": "markdown",
   "source": [
    "Chuẩn hóa dữ liệu"
   ],
   "metadata": {
    "collapsed": false
   }
  },
  {
   "cell_type": "code",
   "execution_count": 806,
   "outputs": [],
   "source": [
    "df_submission_feature = change_one_hot(df_submission_feature)\n",
    "df_submission_feature = drop_feature(df_submission_feature)"
   ],
   "metadata": {
    "collapsed": false,
    "pycharm": {
     "name": "#%%\n"
    }
   }
  },
  {
   "cell_type": "markdown",
   "source": [
    "Tính"
   ],
   "metadata": {
    "collapsed": false
   }
  },
  {
   "cell_type": "code",
   "execution_count": 807,
   "outputs": [],
   "source": [
    "feature_data_submission = df_submission_feature.drop(['cnt'], axis = 1)\n",
    "feature_data_submission[normalize_mm] = minmax(feature_data_submission)\n",
    "feature_data_submission[normalized_ss] = standard(feature_data_submission)\n",
    "label = solution.predict(feature_data_submission)"
   ],
   "metadata": {
    "collapsed": false,
    "pycharm": {
     "name": "#%%\n"
    }
   }
  },
  {
   "cell_type": "code",
   "execution_count": 808,
   "outputs": [],
   "source": [
    "for i in range (0, label.shape[0]):\n",
    "    if (label[i]<0):\n",
    "        label[i] = 0"
   ],
   "metadata": {
    "collapsed": false,
    "pycharm": {
     "name": "#%%\n"
    }
   }
  },
  {
   "cell_type": "code",
   "execution_count": 809,
   "outputs": [
    {
     "data": {
      "text/plain": "array([344.26544 ,  92.59576 ,   8.392033, ..., 574.0367  , 285.814   ,\n        86.49035 ], dtype=float32)"
     },
     "execution_count": 809,
     "metadata": {},
     "output_type": "execute_result"
    }
   ],
   "source": [
    "label"
   ],
   "metadata": {
    "collapsed": false,
    "pycharm": {
     "name": "#%%\n"
    }
   }
  },
  {
   "cell_type": "markdown",
   "source": [
    "Ghi kết quả vào tập submisstion"
   ],
   "metadata": {
    "collapsed": false
   }
  },
  {
   "cell_type": "code",
   "execution_count": 810,
   "outputs": [],
   "source": [
    "submission_label_path = './dataset/submission.csv'\n",
    "df_submission_label = pd.read_csv(submission_label_path)\n",
    "df_submission_label['cnt'] = label"
   ],
   "metadata": {
    "collapsed": false,
    "pycharm": {
     "name": "#%%\n"
    }
   }
  },
  {
   "cell_type": "code",
   "execution_count": 811,
   "outputs": [
    {
     "data": {
      "text/plain": "   id         cnt\n0   0  344.265442\n1   1   92.595757\n2   2    8.392033\n3   3  564.947021\n4   4    7.648729",
      "text/html": "<div>\n<style scoped>\n    .dataframe tbody tr th:only-of-type {\n        vertical-align: middle;\n    }\n\n    .dataframe tbody tr th {\n        vertical-align: top;\n    }\n\n    .dataframe thead th {\n        text-align: right;\n    }\n</style>\n<table border=\"1\" class=\"dataframe\">\n  <thead>\n    <tr style=\"text-align: right;\">\n      <th></th>\n      <th>id</th>\n      <th>cnt</th>\n    </tr>\n  </thead>\n  <tbody>\n    <tr>\n      <th>0</th>\n      <td>0</td>\n      <td>344.265442</td>\n    </tr>\n    <tr>\n      <th>1</th>\n      <td>1</td>\n      <td>92.595757</td>\n    </tr>\n    <tr>\n      <th>2</th>\n      <td>2</td>\n      <td>8.392033</td>\n    </tr>\n    <tr>\n      <th>3</th>\n      <td>3</td>\n      <td>564.947021</td>\n    </tr>\n    <tr>\n      <th>4</th>\n      <td>4</td>\n      <td>7.648729</td>\n    </tr>\n  </tbody>\n</table>\n</div>"
     },
     "execution_count": 811,
     "metadata": {},
     "output_type": "execute_result"
    }
   ],
   "source": [
    "df_submission_label.head()"
   ],
   "metadata": {
    "collapsed": false,
    "pycharm": {
     "name": "#%%\n"
    }
   }
  },
  {
   "cell_type": "markdown",
   "source": [
    "Ghi dữ liệu ra file"
   ],
   "metadata": {
    "collapsed": false
   }
  },
  {
   "cell_type": "code",
   "execution_count": 812,
   "outputs": [],
   "source": [
    "df_submission_label.to_csv(submission_label_path, index = False)"
   ],
   "metadata": {
    "collapsed": false,
    "pycharm": {
     "name": "#%%\n"
    }
   }
  },
  {
   "cell_type": "markdown",
   "source": [],
   "metadata": {
    "collapsed": false
   }
  }
 ],
 "metadata": {
  "kernelspec": {
   "display_name": "Python 3",
   "language": "python",
   "name": "python3"
  },
  "language_info": {
   "codemirror_mode": {
    "name": "ipython",
    "version": 2
   },
   "file_extension": ".py",
   "mimetype": "text/x-python",
   "name": "python",
   "nbconvert_exporter": "python",
   "pygments_lexer": "ipython2",
   "version": "2.7.6"
  }
 },
 "nbformat": 4,
 "nbformat_minor": 0
}