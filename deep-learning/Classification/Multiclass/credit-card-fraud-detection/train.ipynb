{
 "cells": [
  {
   "cell_type": "markdown",
   "source": [
    "# Phát hiện gian lận thẻ tín dụng"
   ],
   "metadata": {
    "collapsed": false
   }
  },
  {
   "cell_type": "markdown",
   "source": [
    "Thư viện"
   ],
   "metadata": {
    "collapsed": false
   }
  },
  {
   "cell_type": "code",
   "execution_count": 1,
   "outputs": [],
   "source": [
    "from sklearn.preprocessing import StandardScaler, MinMaxScaler\n",
    "import pandas as pd\n",
    "import matplotlib.pyplot as plt\n",
    "from sklearn.model_selection import train_test_split\n",
    "from sklearn.pipeline import Pipeline\n",
    "\n",
    "from keras.models import Sequential\n",
    "from keras.layers import Dense,Input\n",
    "from keras.metrics import AUC\n",
    "from keras.losses import BinaryCrossentropy\n",
    "\n",
    "\n",
    "# Xử lý outliner\n",
    "from typing import Tuple\n",
    "from sklearn.base import BaseEstimator, TransformerMixin"
   ],
   "metadata": {
    "collapsed": false,
    "pycharm": {
     "name": "#%%\n"
    }
   }
  },
  {
   "cell_type": "markdown",
   "source": [
    "# I. Data"
   ],
   "metadata": {
    "collapsed": false
   }
  },
  {
   "cell_type": "markdown",
   "source": [
    "## 1. Data Collecting"
   ],
   "metadata": {
    "collapsed": false
   }
  },
  {
   "cell_type": "markdown",
   "source": [],
   "metadata": {
    "collapsed": false
   }
  },
  {
   "cell_type": "code",
   "execution_count": 2,
   "outputs": [],
   "source": [
    "data_path = './data/train-dataset.csv'\n",
    "data = pd.read_csv(data_path)"
   ],
   "metadata": {
    "collapsed": false,
    "pycharm": {
     "name": "#%%\n"
    }
   }
  },
  {
   "cell_type": "code",
   "execution_count": 3,
   "outputs": [],
   "source": [
    "sub_path = './data/test-dataset.csv'\n",
    "data_submission = pd.read_csv(sub_path)"
   ],
   "metadata": {
    "collapsed": false,
    "pycharm": {
     "name": "#%%\n"
    }
   }
  },
  {
   "cell_type": "markdown",
   "source": [
    "## 2. Data understanding"
   ],
   "metadata": {
    "collapsed": false
   }
  },
  {
   "cell_type": "markdown",
   "source": [
    "Chiều dài dữ liệu"
   ],
   "metadata": {
    "collapsed": false
   }
  },
  {
   "cell_type": "code",
   "execution_count": 4,
   "outputs": [
    {
     "data": {
      "text/plain": "199364"
     },
     "execution_count": 4,
     "metadata": {},
     "output_type": "execute_result"
    }
   ],
   "source": [
    "len(data)"
   ],
   "metadata": {
    "collapsed": false,
    "pycharm": {
     "name": "#%%\n"
    }
   }
  },
  {
   "cell_type": "markdown",
   "source": [
    "Hiện thị dữ liệu"
   ],
   "metadata": {
    "collapsed": false
   }
  },
  {
   "cell_type": "code",
   "execution_count": 5,
   "outputs": [
    {
     "data": {
      "text/plain": "            ID      Time        V1        V2        V3        V4        V5  \\\n199359  199359   75618.0  1.173488  0.100792  0.490512  0.461596 -0.296377   \n199360  199360  159000.0 -0.775981  0.144023 -1.142399 -1.241113  1.940358   \n199361  199361   79795.0 -0.146609  0.992946  1.524591  0.485774  0.349308   \n199362  199362   87931.0 -2.948638  2.354849 -2.521201 -3.798905  1.866302   \n199363  199363   76381.0  1.233174 -0.784851  0.386784 -0.698559 -1.034018   \n\n              V6        V7        V8  ...       V21       V22       V23  \\\n199359 -0.213165 -0.165254  0.119221  ... -0.186027 -0.574283  0.161405   \n199360  3.912076 -0.466107  1.360620  ...  0.037078 -0.019575  0.241830   \n199361 -0.815198  1.076640 -0.395316  ...  0.052649  0.354089 -0.291198   \n199362  2.727695 -0.471769  2.217537  ... -0.332759 -1.047514  0.143326   \n199363 -0.637028 -0.502369 -0.188057  ...  0.027634 -0.234522 -0.059544   \n\n             V24       V25       V26       V27       V28  Amount  Class  \n199359 -0.006140  0.091444  0.109235 -0.020922  0.003967    1.98      0  \n199360  0.682820 -1.635109 -0.770941  0.066006  0.137056   89.23      0  \n199361  0.402849  0.237383 -0.398467 -0.121139 -0.196195    3.94      0  \n199362  0.678869  0.319710  0.426309  0.496912  0.335822    1.00      0  \n199363 -0.109073  0.290326 -0.393074  0.001217  0.038588  113.00      0  \n\n[5 rows x 32 columns]",
      "text/html": "<div>\n<style scoped>\n    .dataframe tbody tr th:only-of-type {\n        vertical-align: middle;\n    }\n\n    .dataframe tbody tr th {\n        vertical-align: top;\n    }\n\n    .dataframe thead th {\n        text-align: right;\n    }\n</style>\n<table border=\"1\" class=\"dataframe\">\n  <thead>\n    <tr style=\"text-align: right;\">\n      <th></th>\n      <th>ID</th>\n      <th>Time</th>\n      <th>V1</th>\n      <th>V2</th>\n      <th>V3</th>\n      <th>V4</th>\n      <th>V5</th>\n      <th>V6</th>\n      <th>V7</th>\n      <th>V8</th>\n      <th>...</th>\n      <th>V21</th>\n      <th>V22</th>\n      <th>V23</th>\n      <th>V24</th>\n      <th>V25</th>\n      <th>V26</th>\n      <th>V27</th>\n      <th>V28</th>\n      <th>Amount</th>\n      <th>Class</th>\n    </tr>\n  </thead>\n  <tbody>\n    <tr>\n      <th>199359</th>\n      <td>199359</td>\n      <td>75618.0</td>\n      <td>1.173488</td>\n      <td>0.100792</td>\n      <td>0.490512</td>\n      <td>0.461596</td>\n      <td>-0.296377</td>\n      <td>-0.213165</td>\n      <td>-0.165254</td>\n      <td>0.119221</td>\n      <td>...</td>\n      <td>-0.186027</td>\n      <td>-0.574283</td>\n      <td>0.161405</td>\n      <td>-0.006140</td>\n      <td>0.091444</td>\n      <td>0.109235</td>\n      <td>-0.020922</td>\n      <td>0.003967</td>\n      <td>1.98</td>\n      <td>0</td>\n    </tr>\n    <tr>\n      <th>199360</th>\n      <td>199360</td>\n      <td>159000.0</td>\n      <td>-0.775981</td>\n      <td>0.144023</td>\n      <td>-1.142399</td>\n      <td>-1.241113</td>\n      <td>1.940358</td>\n      <td>3.912076</td>\n      <td>-0.466107</td>\n      <td>1.360620</td>\n      <td>...</td>\n      <td>0.037078</td>\n      <td>-0.019575</td>\n      <td>0.241830</td>\n      <td>0.682820</td>\n      <td>-1.635109</td>\n      <td>-0.770941</td>\n      <td>0.066006</td>\n      <td>0.137056</td>\n      <td>89.23</td>\n      <td>0</td>\n    </tr>\n    <tr>\n      <th>199361</th>\n      <td>199361</td>\n      <td>79795.0</td>\n      <td>-0.146609</td>\n      <td>0.992946</td>\n      <td>1.524591</td>\n      <td>0.485774</td>\n      <td>0.349308</td>\n      <td>-0.815198</td>\n      <td>1.076640</td>\n      <td>-0.395316</td>\n      <td>...</td>\n      <td>0.052649</td>\n      <td>0.354089</td>\n      <td>-0.291198</td>\n      <td>0.402849</td>\n      <td>0.237383</td>\n      <td>-0.398467</td>\n      <td>-0.121139</td>\n      <td>-0.196195</td>\n      <td>3.94</td>\n      <td>0</td>\n    </tr>\n    <tr>\n      <th>199362</th>\n      <td>199362</td>\n      <td>87931.0</td>\n      <td>-2.948638</td>\n      <td>2.354849</td>\n      <td>-2.521201</td>\n      <td>-3.798905</td>\n      <td>1.866302</td>\n      <td>2.727695</td>\n      <td>-0.471769</td>\n      <td>2.217537</td>\n      <td>...</td>\n      <td>-0.332759</td>\n      <td>-1.047514</td>\n      <td>0.143326</td>\n      <td>0.678869</td>\n      <td>0.319710</td>\n      <td>0.426309</td>\n      <td>0.496912</td>\n      <td>0.335822</td>\n      <td>1.00</td>\n      <td>0</td>\n    </tr>\n    <tr>\n      <th>199363</th>\n      <td>199363</td>\n      <td>76381.0</td>\n      <td>1.233174</td>\n      <td>-0.784851</td>\n      <td>0.386784</td>\n      <td>-0.698559</td>\n      <td>-1.034018</td>\n      <td>-0.637028</td>\n      <td>-0.502369</td>\n      <td>-0.188057</td>\n      <td>...</td>\n      <td>0.027634</td>\n      <td>-0.234522</td>\n      <td>-0.059544</td>\n      <td>-0.109073</td>\n      <td>0.290326</td>\n      <td>-0.393074</td>\n      <td>0.001217</td>\n      <td>0.038588</td>\n      <td>113.00</td>\n      <td>0</td>\n    </tr>\n  </tbody>\n</table>\n<p>5 rows × 32 columns</p>\n</div>"
     },
     "execution_count": 5,
     "metadata": {},
     "output_type": "execute_result"
    }
   ],
   "source": [
    "data.tail()"
   ],
   "metadata": {
    "collapsed": false,
    "pycharm": {
     "name": "#%%\n"
    }
   }
  },
  {
   "cell_type": "markdown",
   "source": [
    "Hiển thị tóm tắt về dữ liệu"
   ],
   "metadata": {
    "collapsed": false
   }
  },
  {
   "cell_type": "code",
   "execution_count": 6,
   "outputs": [
    {
     "data": {
      "text/plain": "                  ID           Time             V1             V2  \\\ncount  199364.000000  199364.000000  199364.000000  199364.000000   \nmean    99681.500000   94748.021453      -0.001491      -0.002331   \nstd     57551.573871   47474.287612       1.960957       1.667882   \nmin         0.000000       0.000000     -56.407510     -72.715728   \n25%     49840.750000   54176.000000      -0.920935      -0.599013   \n50%     99681.500000   84604.500000       0.013616       0.066441   \n75%    149522.250000  139255.250000       1.314703       0.803312   \nmax    199363.000000  172792.000000       2.454930      22.057729   \n\n                  V3             V4             V5             V6  \\\ncount  199364.000000  199364.000000  199364.000000  199364.000000   \nmean        0.002040      -0.001072       0.000499      -0.001898   \nstd         1.514420       1.416783       1.393311       1.337511   \nmin       -48.325589      -5.683171    -113.743307     -26.160506   \n25%        -0.885992      -0.849764      -0.689221      -0.768043   \n50%         0.182979      -0.021602      -0.056453      -0.274239   \n75%         1.028217       0.741059       0.609969       0.394597   \nmax         4.187811      16.875344      34.801666      73.301626   \n\n                  V7             V8  ...            V21            V22  \\\ncount  199364.000000  199364.000000  ...  199364.000000  199364.000000   \nmean        0.002623      -0.001166  ...      -0.000309      -0.001793   \nstd         1.248391       1.188393  ...       0.731509       0.725378   \nmin       -43.557242     -73.216718  ...     -34.830382     -10.933144   \n25%        -0.551137      -0.207810  ...      -0.228998      -0.543142   \n50%         0.042759       0.022222  ...      -0.029860       0.005059   \n75%         0.570624       0.326793  ...       0.186112       0.526039   \nmax       120.589494      20.007208  ...      27.202839      10.503090   \n\n                 V23            V24            V25            V26  \\\ncount  199364.000000  199364.000000  199364.000000  199364.000000   \nmean       -0.000179      -0.000634      -0.000958       0.000671   \nstd         0.633316       0.605789       0.522343       0.482478   \nmin       -44.807735      -2.836627     -10.295397      -2.604551   \n25%        -0.161315      -0.354771      -0.317579      -0.326848   \n50%        -0.010632       0.040783       0.014793      -0.050547   \n75%         0.147780       0.439039       0.350492       0.242133   \nmax        22.528412       4.584549       7.519589       3.517346   \n\n                 V27            V28         Amount          Class  \ncount  199364.000000  199364.000000  199364.000000  199364.000000  \nmean       -0.000575      -0.000022      88.799754       0.001786  \nstd         0.406323       0.329310     258.426885       0.042220  \nmin        -9.895244     -15.430084       0.000000       0.000000  \n25%        -0.071015      -0.053090       5.607500       0.000000  \n50%         0.001238       0.011385      22.000000       0.000000  \n75%         0.091392       0.078537      77.372500       0.000000  \nmax        31.612198      33.847808   25691.160000       1.000000  \n\n[8 rows x 32 columns]",
      "text/html": "<div>\n<style scoped>\n    .dataframe tbody tr th:only-of-type {\n        vertical-align: middle;\n    }\n\n    .dataframe tbody tr th {\n        vertical-align: top;\n    }\n\n    .dataframe thead th {\n        text-align: right;\n    }\n</style>\n<table border=\"1\" class=\"dataframe\">\n  <thead>\n    <tr style=\"text-align: right;\">\n      <th></th>\n      <th>ID</th>\n      <th>Time</th>\n      <th>V1</th>\n      <th>V2</th>\n      <th>V3</th>\n      <th>V4</th>\n      <th>V5</th>\n      <th>V6</th>\n      <th>V7</th>\n      <th>V8</th>\n      <th>...</th>\n      <th>V21</th>\n      <th>V22</th>\n      <th>V23</th>\n      <th>V24</th>\n      <th>V25</th>\n      <th>V26</th>\n      <th>V27</th>\n      <th>V28</th>\n      <th>Amount</th>\n      <th>Class</th>\n    </tr>\n  </thead>\n  <tbody>\n    <tr>\n      <th>count</th>\n      <td>199364.000000</td>\n      <td>199364.000000</td>\n      <td>199364.000000</td>\n      <td>199364.000000</td>\n      <td>199364.000000</td>\n      <td>199364.000000</td>\n      <td>199364.000000</td>\n      <td>199364.000000</td>\n      <td>199364.000000</td>\n      <td>199364.000000</td>\n      <td>...</td>\n      <td>199364.000000</td>\n      <td>199364.000000</td>\n      <td>199364.000000</td>\n      <td>199364.000000</td>\n      <td>199364.000000</td>\n      <td>199364.000000</td>\n      <td>199364.000000</td>\n      <td>199364.000000</td>\n      <td>199364.000000</td>\n      <td>199364.000000</td>\n    </tr>\n    <tr>\n      <th>mean</th>\n      <td>99681.500000</td>\n      <td>94748.021453</td>\n      <td>-0.001491</td>\n      <td>-0.002331</td>\n      <td>0.002040</td>\n      <td>-0.001072</td>\n      <td>0.000499</td>\n      <td>-0.001898</td>\n      <td>0.002623</td>\n      <td>-0.001166</td>\n      <td>...</td>\n      <td>-0.000309</td>\n      <td>-0.001793</td>\n      <td>-0.000179</td>\n      <td>-0.000634</td>\n      <td>-0.000958</td>\n      <td>0.000671</td>\n      <td>-0.000575</td>\n      <td>-0.000022</td>\n      <td>88.799754</td>\n      <td>0.001786</td>\n    </tr>\n    <tr>\n      <th>std</th>\n      <td>57551.573871</td>\n      <td>47474.287612</td>\n      <td>1.960957</td>\n      <td>1.667882</td>\n      <td>1.514420</td>\n      <td>1.416783</td>\n      <td>1.393311</td>\n      <td>1.337511</td>\n      <td>1.248391</td>\n      <td>1.188393</td>\n      <td>...</td>\n      <td>0.731509</td>\n      <td>0.725378</td>\n      <td>0.633316</td>\n      <td>0.605789</td>\n      <td>0.522343</td>\n      <td>0.482478</td>\n      <td>0.406323</td>\n      <td>0.329310</td>\n      <td>258.426885</td>\n      <td>0.042220</td>\n    </tr>\n    <tr>\n      <th>min</th>\n      <td>0.000000</td>\n      <td>0.000000</td>\n      <td>-56.407510</td>\n      <td>-72.715728</td>\n      <td>-48.325589</td>\n      <td>-5.683171</td>\n      <td>-113.743307</td>\n      <td>-26.160506</td>\n      <td>-43.557242</td>\n      <td>-73.216718</td>\n      <td>...</td>\n      <td>-34.830382</td>\n      <td>-10.933144</td>\n      <td>-44.807735</td>\n      <td>-2.836627</td>\n      <td>-10.295397</td>\n      <td>-2.604551</td>\n      <td>-9.895244</td>\n      <td>-15.430084</td>\n      <td>0.000000</td>\n      <td>0.000000</td>\n    </tr>\n    <tr>\n      <th>25%</th>\n      <td>49840.750000</td>\n      <td>54176.000000</td>\n      <td>-0.920935</td>\n      <td>-0.599013</td>\n      <td>-0.885992</td>\n      <td>-0.849764</td>\n      <td>-0.689221</td>\n      <td>-0.768043</td>\n      <td>-0.551137</td>\n      <td>-0.207810</td>\n      <td>...</td>\n      <td>-0.228998</td>\n      <td>-0.543142</td>\n      <td>-0.161315</td>\n      <td>-0.354771</td>\n      <td>-0.317579</td>\n      <td>-0.326848</td>\n      <td>-0.071015</td>\n      <td>-0.053090</td>\n      <td>5.607500</td>\n      <td>0.000000</td>\n    </tr>\n    <tr>\n      <th>50%</th>\n      <td>99681.500000</td>\n      <td>84604.500000</td>\n      <td>0.013616</td>\n      <td>0.066441</td>\n      <td>0.182979</td>\n      <td>-0.021602</td>\n      <td>-0.056453</td>\n      <td>-0.274239</td>\n      <td>0.042759</td>\n      <td>0.022222</td>\n      <td>...</td>\n      <td>-0.029860</td>\n      <td>0.005059</td>\n      <td>-0.010632</td>\n      <td>0.040783</td>\n      <td>0.014793</td>\n      <td>-0.050547</td>\n      <td>0.001238</td>\n      <td>0.011385</td>\n      <td>22.000000</td>\n      <td>0.000000</td>\n    </tr>\n    <tr>\n      <th>75%</th>\n      <td>149522.250000</td>\n      <td>139255.250000</td>\n      <td>1.314703</td>\n      <td>0.803312</td>\n      <td>1.028217</td>\n      <td>0.741059</td>\n      <td>0.609969</td>\n      <td>0.394597</td>\n      <td>0.570624</td>\n      <td>0.326793</td>\n      <td>...</td>\n      <td>0.186112</td>\n      <td>0.526039</td>\n      <td>0.147780</td>\n      <td>0.439039</td>\n      <td>0.350492</td>\n      <td>0.242133</td>\n      <td>0.091392</td>\n      <td>0.078537</td>\n      <td>77.372500</td>\n      <td>0.000000</td>\n    </tr>\n    <tr>\n      <th>max</th>\n      <td>199363.000000</td>\n      <td>172792.000000</td>\n      <td>2.454930</td>\n      <td>22.057729</td>\n      <td>4.187811</td>\n      <td>16.875344</td>\n      <td>34.801666</td>\n      <td>73.301626</td>\n      <td>120.589494</td>\n      <td>20.007208</td>\n      <td>...</td>\n      <td>27.202839</td>\n      <td>10.503090</td>\n      <td>22.528412</td>\n      <td>4.584549</td>\n      <td>7.519589</td>\n      <td>3.517346</td>\n      <td>31.612198</td>\n      <td>33.847808</td>\n      <td>25691.160000</td>\n      <td>1.000000</td>\n    </tr>\n  </tbody>\n</table>\n<p>8 rows × 32 columns</p>\n</div>"
     },
     "execution_count": 6,
     "metadata": {},
     "output_type": "execute_result"
    }
   ],
   "source": [
    "data.describe()"
   ],
   "metadata": {
    "collapsed": false,
    "pycharm": {
     "name": "#%%\n"
    }
   }
  },
  {
   "cell_type": "markdown",
   "source": [
    "Xem phân phối của từng cột"
   ],
   "metadata": {
    "collapsed": false
   }
  },
  {
   "cell_type": "code",
   "execution_count": 7,
   "outputs": [
    {
     "data": {
      "text/plain": "<AxesSubplot:>"
     },
     "execution_count": 7,
     "metadata": {},
     "output_type": "execute_result"
    },
    {
     "data": {
      "text/plain": "<Figure size 1080x360 with 2 Axes>",
      "image/png": "[encoded data removed]"
     },
     "metadata": {
      "needs_background": "light"
     },
     "output_type": "display_data"
    }
   ],
   "source": [
    "fig, axes = plt.subplots(nrows=1, ncols=2, figsize=(15, 5))\n",
    "data[[\"V5\"]].hist(bins=50, ax=axes[0])\n",
    "data[[\"V5\"]].boxplot(ax=axes[1], vert=False)"
   ],
   "metadata": {
    "collapsed": false,
    "pycharm": {
     "name": "#%%\n"
    }
   }
  },
  {
   "cell_type": "markdown",
   "source": [
    "Kiểm tra dữ liệu null"
   ],
   "metadata": {
    "collapsed": false
   }
  },
  {
   "cell_type": "code",
   "execution_count": 8,
   "outputs": [
    {
     "data": {
      "text/plain": "Empty DataFrame\nColumns: [ID, Time, V1, V2, V3, V4, V5, V6, V7, V8, V9, V10, V11, V12, V13, V14, V15, V16, V17, V18, V19, V20, V21, V22, V23, V24, V25, V26, V27, V28, Amount, Class]\nIndex: []\n\n[0 rows x 32 columns]",
      "text/html": "<div>\n<style scoped>\n    .dataframe tbody tr th:only-of-type {\n        vertical-align: middle;\n    }\n\n    .dataframe tbody tr th {\n        vertical-align: top;\n    }\n\n    .dataframe thead th {\n        text-align: right;\n    }\n</style>\n<table border=\"1\" class=\"dataframe\">\n  <thead>\n    <tr style=\"text-align: right;\">\n      <th></th>\n      <th>ID</th>\n      <th>Time</th>\n      <th>V1</th>\n      <th>V2</th>\n      <th>V3</th>\n      <th>V4</th>\n      <th>V5</th>\n      <th>V6</th>\n      <th>V7</th>\n      <th>V8</th>\n      <th>...</th>\n      <th>V21</th>\n      <th>V22</th>\n      <th>V23</th>\n      <th>V24</th>\n      <th>V25</th>\n      <th>V26</th>\n      <th>V27</th>\n      <th>V28</th>\n      <th>Amount</th>\n      <th>Class</th>\n    </tr>\n  </thead>\n  <tbody>\n  </tbody>\n</table>\n<p>0 rows × 32 columns</p>\n</div>"
     },
     "execution_count": 8,
     "metadata": {},
     "output_type": "execute_result"
    }
   ],
   "source": [
    "col_null = pd.isnull(data).any(axis=1)\n",
    "data[col_null]"
   ],
   "metadata": {
    "collapsed": false,
    "pycharm": {
     "name": "#%%\n"
    }
   }
  },
  {
   "cell_type": "markdown",
   "source": [
    "Kiểm tra sự tương quan của từng cột"
   ],
   "metadata": {
    "collapsed": false
   }
  },
  {
   "cell_type": "code",
   "execution_count": 9,
   "outputs": [
    {
     "data": {
      "text/plain": "              ID      Time        V1        V2        V3        V4  \\\nID      1.000000 -0.003158 -0.004328 -0.003543  0.000194  0.000776   \nTime   -0.003158  1.000000  0.116815 -0.010624 -0.420685 -0.103994   \nV1     -0.004328  0.116815  1.000000  0.017747 -0.001115 -0.001786   \nV2     -0.003543 -0.010624  0.017747  1.000000  0.011171 -0.007648   \nV3      0.000194 -0.420685 -0.001115  0.011171  1.000000 -0.003485   \nV4      0.000776 -0.103994 -0.001786 -0.007648 -0.003485  1.000000   \nV5      0.000824  0.170181 -0.004059  0.005405  0.003466 -0.000681   \nV6      0.002624 -0.062820 -0.000950 -0.000770 -0.005683  0.003023   \nV7     -0.002258  0.081971 -0.013030 -0.003275 -0.017712  0.005469   \nV8      0.002575 -0.038908  0.001191  0.001559  0.003360  0.000869   \nV9      0.002402 -0.010146 -0.002875 -0.000978 -0.000621  0.000595   \nV10    -0.001091  0.028849 -0.001981  0.003146  0.000060  0.001967   \nV11     0.003910 -0.246408 -0.000983 -0.001960 -0.000442  0.002725   \nV12     0.001443  0.125714 -0.002422 -0.000470 -0.000731 -0.002332   \nV13     0.004326 -0.065911 -0.002999 -0.002856 -0.001792  0.000198   \nV14     0.002251 -0.097978 -0.000408 -0.000530  0.000160 -0.001777   \nV15     0.001471 -0.182926 -0.004336 -0.000889 -0.003430  0.002417   \nV16    -0.000760  0.014458 -0.003554  0.001253 -0.004401  0.001887   \nV17    -0.001043 -0.071248 -0.002765  0.003332 -0.003523  0.001280   \nV18     0.000040  0.090408 -0.001234  0.000409 -0.004053  0.002222   \nV19     0.002921  0.030096  0.000505  0.001647  0.002326 -0.000368   \nV20    -0.002189 -0.050186  0.000689 -0.002352  0.000424  0.001718   \nV21    -0.000557  0.044472  0.001283  0.001179  0.000686  0.000264   \nV22     0.002747  0.146647  0.003455  0.004738  0.001065  0.000787   \nV23    -0.000327  0.050014  0.009165  0.008968  0.007911 -0.004854   \nV24     0.003484 -0.015530 -0.001687 -0.001869  0.000598 -0.000733   \nV25    -0.003406 -0.231385  0.003159  0.003129  0.000614 -0.001424   \nV26    -0.002261 -0.042524 -0.001494  0.000053 -0.001211  0.001669   \nV27    -0.001694 -0.007401 -0.001690 -0.007049 -0.003072  0.004668   \nV28    -0.001597 -0.010869 -0.000226 -0.003347  0.007200  0.002935   \nAmount  0.002183 -0.009885 -0.235517 -0.534306 -0.220770  0.105724   \nClass   0.000140 -0.013910 -0.093115  0.085920 -0.186946  0.135672   \n\n                  V5        V6        V7        V8  ...       V21       V22  \\\nID      8.243381e-04  0.002624 -0.002258  0.002575  ... -0.000557  0.002747   \nTime    1.701811e-01 -0.062820  0.081971 -0.038908  ...  0.044472  0.146647   \nV1     -4.058961e-03 -0.000950 -0.013030  0.001191  ...  0.001283  0.003455   \nV2      5.405066e-03 -0.000770 -0.003275  0.001559  ...  0.001179  0.004738   \nV3      3.465664e-03 -0.005683 -0.017712  0.003360  ...  0.000686  0.001065   \nV4     -6.807957e-04  0.003023  0.005469  0.000869  ...  0.000264  0.000787   \nV5      1.000000e+00 -0.017349 -0.032267  0.005755  ...  0.002419 -0.000991   \nV6     -1.734882e-02  1.000000  0.018089 -0.003159  ... -0.004006  0.002360   \nV7     -3.226654e-02  0.018089  1.000000 -0.008724  ... -0.002709 -0.001756   \nV8      5.755427e-03 -0.003159 -0.008724  1.000000  ...  0.007102 -0.000464   \nV9      5.609915e-07 -0.001109 -0.006029  0.000891  ... -0.000875 -0.000254   \nV10     9.126765e-04 -0.002938 -0.014868 -0.001990  ... -0.002185 -0.000005   \nV11    -1.115499e-03 -0.000092  0.001344  0.003465  ... -0.003843 -0.001583   \nV12    -5.991012e-05  0.000917 -0.005061 -0.002778  ...  0.002585 -0.002644   \nV13    -4.668272e-04 -0.000658  0.001633 -0.001010  ... -0.000207  0.000057   \nV14    -1.766889e-03  0.001444 -0.000088 -0.004538  ...  0.004061 -0.002261   \nV15    -1.750225e-03  0.000476  0.003675 -0.000171  ... -0.001871 -0.002393   \nV16    -3.393978e-03  0.003194  0.005669 -0.004292  ...  0.000423  0.000442   \nV17    -2.164045e-03 -0.000903 -0.006341 -0.003909  ...  0.002362 -0.000750   \nV18    -1.920661e-03  0.001790 -0.000503 -0.003346  ...  0.001622  0.000076   \nV19    -3.243944e-04  0.000097 -0.003732  0.000097  ... -0.001878  0.001064   \nV20     1.158665e-03  0.000489 -0.001784 -0.001349  ...  0.012137 -0.005174   \nV21     2.418584e-03 -0.004006 -0.002709  0.007102  ...  1.000000  0.005164   \nV22    -9.912322e-04  0.002360 -0.001756 -0.000464  ...  0.005164  1.000000   \nV23     5.906077e-03 -0.003613 -0.001386  0.005816  ...  0.005386  0.004141   \nV24    -1.456422e-03 -0.001079  0.001211  0.000227  ... -0.001849  0.001517   \nV25     3.871400e-03 -0.000570 -0.000879 -0.001585  ... -0.000732  0.003010   \nV26     2.742120e-04 -0.000542  0.000178 -0.002143  ... -0.000633 -0.001824   \nV27    -1.031044e-02  0.004815  0.013897 -0.003816  ... -0.012280  0.001752   \nV28     1.615189e-02 -0.010702 -0.016055  0.002565  ... -0.000080  0.000163   \nAmount -3.984443e-01  0.226594  0.416707 -0.107922  ...  0.099551 -0.067241   \nClass  -8.574884e-02 -0.045829 -0.175477  0.028849  ...  0.035439  0.002570   \n\n             V23       V24       V25       V26       V27       V28    Amount  \\\nID     -0.000327  0.003484 -0.003406 -0.002261 -0.001694 -0.001597  0.002183   \nTime    0.050014 -0.015530 -0.231385 -0.042524 -0.007401 -0.010869 -0.009885   \nV1      0.009165 -0.001687  0.003159 -0.001494 -0.001690 -0.000226 -0.235517   \nV2      0.008968 -0.001869  0.003129  0.000053 -0.007049 -0.003347 -0.534306   \nV3      0.007911  0.000598  0.000614 -0.001211 -0.003072  0.007200 -0.220770   \nV4     -0.004854 -0.000733 -0.001424  0.001669  0.004668  0.002935  0.105724   \nV5      0.005906 -0.001456  0.003871  0.000274 -0.010310  0.016152 -0.398444   \nV6     -0.003613 -0.001079 -0.000570 -0.000542  0.004815 -0.010702  0.226594   \nV7     -0.001386  0.001211 -0.000879  0.000178  0.013897 -0.016055  0.416707   \nV8      0.005816  0.000227 -0.001585 -0.002143 -0.003816  0.002565 -0.107922   \nV9     -0.002025 -0.003059 -0.001899 -0.001390 -0.000095 -0.000206 -0.044092   \nV10     0.003472 -0.001397  0.000694  0.000776 -0.000315  0.001814 -0.107009   \nV11    -0.002693 -0.000148 -0.001627  0.000877  0.004646 -0.000421  0.002524   \nV12     0.000487  0.002096 -0.000358 -0.001507 -0.004012  0.002413 -0.009540   \nV13    -0.000474 -0.001650  0.000847 -0.000800  0.003643 -0.001874  0.008201   \nV14     0.001311  0.000181  0.000431 -0.000647 -0.004270 -0.002209  0.034834   \nV15    -0.002133  0.000226  0.001428 -0.001285  0.001156 -0.001986  0.002410   \nV16    -0.001772 -0.000065 -0.001639  0.000504  0.003040 -0.001314  0.002473   \nV17     0.001278 -0.000468  0.000051 -0.000673 -0.002460  0.000876  0.004971   \nV18     0.004945 -0.000877  0.000138 -0.001581 -0.001202  0.002616  0.038067   \nV19     0.001500  0.000104  0.000990  0.000340  0.000741 -0.000674 -0.057933   \nV20     0.006541 -0.000355 -0.002454 -0.001592 -0.013135  0.007684  0.332064   \nV21     0.005386 -0.001849 -0.000732 -0.000633 -0.012280 -0.000080  0.099551   \nV22     0.004141  0.001517  0.003010 -0.001824  0.001752  0.000163 -0.067241   \nV23     1.000000 -0.000429  0.008966  0.001114 -0.006983  0.015665 -0.119333   \nV24    -0.000429  1.000000 -0.000642 -0.000516  0.003305 -0.003027  0.007650   \nV25     0.008966 -0.000642  1.000000  0.000745 -0.002016  0.002033 -0.051530   \nV26     0.001114 -0.000516  0.000745  1.000000  0.000507 -0.000257 -0.002153   \nV27    -0.006983  0.003305 -0.002016  0.000507  1.000000 -0.008296  0.045389   \nV28     0.015665 -0.003027  0.002033 -0.000257 -0.008296  1.000000 -0.003199   \nAmount -0.119333  0.007650 -0.051530 -0.002153  0.045389 -0.003199  1.000000   \nClass  -0.008064 -0.007380  0.002380  0.007063  0.019150  0.010179  0.004111   \n\n           Class  \nID      0.000140  \nTime   -0.013910  \nV1     -0.093115  \nV2      0.085920  \nV3     -0.186946  \nV4      0.135672  \nV5     -0.085749  \nV6     -0.045829  \nV7     -0.175477  \nV8      0.028849  \nV9     -0.096935  \nV10    -0.212370  \nV11     0.155631  \nV12    -0.262297  \nV13    -0.001493  \nV14    -0.305740  \nV15    -0.003347  \nV16    -0.193176  \nV17    -0.318848  \nV18    -0.107438  \nV19     0.034937  \nV20     0.017815  \nV21     0.035439  \nV22     0.002570  \nV23    -0.008064  \nV24    -0.007380  \nV25     0.002380  \nV26     0.007063  \nV27     0.019150  \nV28     0.010179  \nAmount  0.004111  \nClass   1.000000  \n\n[32 rows x 32 columns]",
      "text/html": "<div>\n<style scoped>\n    .dataframe tbody tr th:only-of-type {\n        vertical-align: middle;\n    }\n\n    .dataframe tbody tr th {\n        vertical-align: top;\n    }\n\n    .dataframe thead th {\n        text-align: right;\n    }\n</style>\n<table border=\"1\" class=\"dataframe\">\n  <thead>\n    <tr style=\"text-align: right;\">\n      <th></th>\n      <th>ID</th>\n      <th>Time</th>\n      <th>V1</th>\n      <th>V2</th>\n      <th>V3</th>\n      <th>V4</th>\n      <th>V5</th>\n      <th>V6</th>\n      <th>V7</th>\n      <th>V8</th>\n      <th>...</th>\n      <th>V21</th>\n      <th>V22</th>\n      <th>V23</th>\n      <th>V24</th>\n      <th>V25</th>\n      <th>V26</th>\n      <th>V27</th>\n      <th>V28</th>\n      <th>Amount</th>\n      <th>Class</th>\n    </tr>\n  </thead>\n  <tbody>\n    <tr>\n      <th>ID</th>\n      <td>1.000000</td>\n      <td>-0.003158</td>\n      <td>-0.004328</td>\n      <td>-0.003543</td>\n      <td>0.000194</td>\n      <td>0.000776</td>\n      <td>8.243381e-04</td>\n      <td>0.002624</td>\n      <td>-0.002258</td>\n      <td>0.002575</td>\n      <td>...</td>\n      <td>-0.000557</td>\n      <td>0.002747</td>\n      <td>-0.000327</td>\n      <td>0.003484</td>\n      <td>-0.003406</td>\n      <td>-0.002261</td>\n      <td>-0.001694</td>\n      <td>-0.001597</td>\n      <td>0.002183</td>\n      <td>0.000140</td>\n    </tr>\n    <tr>\n      <th>Time</th>\n      <td>-0.003158</td>\n      <td>1.000000</td>\n      <td>0.116815</td>\n      <td>-0.010624</td>\n      <td>-0.420685</td>\n      <td>-0.103994</td>\n      <td>1.701811e-01</td>\n      <td>-0.062820</td>\n      <td>0.081971</td>\n      <td>-0.038908</td>\n      <td>...</td>\n      <td>0.044472</td>\n      <td>0.146647</td>\n      <td>0.050014</td>\n      <td>-0.015530</td>\n      <td>-0.231385</td>\n      <td>-0.042524</td>\n      <td>-0.007401</td>\n      <td>-0.010869</td>\n      <td>-0.009885</td>\n      <td>-0.013910</td>\n    </tr>\n    <tr>\n      <th>V1</th>\n      <td>-0.004328</td>\n      <td>0.116815</td>\n      <td>1.000000</td>\n      <td>0.017747</td>\n      <td>-0.001115</td>\n      <td>-0.001786</td>\n      <td>-4.058961e-03</td>\n      <td>-0.000950</td>\n      <td>-0.013030</td>\n      <td>0.001191</td>\n      <td>...</td>\n      <td>0.001283</td>\n      <td>0.003455</td>\n      <td>0.009165</td>\n      <td>-0.001687</td>\n      <td>0.003159</td>\n      <td>-0.001494</td>\n      <td>-0.001690</td>\n      <td>-0.000226</td>\n      <td>-0.235517</td>\n      <td>-0.093115</td>\n    </tr>\n    <tr>\n      <th>V2</th>\n      <td>-0.003543</td>\n      <td>-0.010624</td>\n      <td>0.017747</td>\n      <td>1.000000</td>\n      <td>0.011171</td>\n      <td>-0.007648</td>\n      <td>5.405066e-03</td>\n      <td>-0.000770</td>\n      <td>-0.003275</td>\n      <td>0.001559</td>\n      <td>...</td>\n      <td>0.001179</td>\n      <td>0.004738</td>\n      <td>0.008968</td>\n      <td>-0.001869</td>\n      <td>0.003129</td>\n      <td>0.000053</td>\n      <td>-0.007049</td>\n      <td>-0.003347</td>\n      <td>-0.534306</td>\n      <td>0.085920</td>\n    </tr>\n    <tr>\n      <th>V3</th>\n      <td>0.000194</td>\n      <td>-0.420685</td>\n      <td>-0.001115</td>\n      <td>0.011171</td>\n      <td>1.000000</td>\n      <td>-0.003485</td>\n      <td>3.465664e-03</td>\n      <td>-0.005683</td>\n      <td>-0.017712</td>\n      <td>0.003360</td>\n      <td>...</td>\n      <td>0.000686</td>\n      <td>0.001065</td>\n      <td>0.007911</td>\n      <td>0.000598</td>\n      <td>0.000614</td>\n      <td>-0.001211</td>\n      <td>-0.003072</td>\n      <td>0.007200</td>\n      <td>-0.220770</td>\n      <td>-0.186946</td>\n    </tr>\n    <tr>\n      <th>V4</th>\n      <td>0.000776</td>\n      <td>-0.103994</td>\n      <td>-0.001786</td>\n      <td>-0.007648</td>\n      <td>-0.003485</td>\n      <td>1.000000</td>\n      <td>-6.807957e-04</td>\n      <td>0.003023</td>\n      <td>0.005469</td>\n      <td>0.000869</td>\n      <td>...</td>\n      <td>0.000264</td>\n      <td>0.000787</td>\n      <td>-0.004854</td>\n      <td>-0.000733</td>\n      <td>-0.001424</td>\n      <td>0.001669</td>\n      <td>0.004668</td>\n      <td>0.002935</td>\n      <td>0.105724</td>\n      <td>0.135672</td>\n    </tr>\n    <tr>\n      <th>V5</th>\n      <td>0.000824</td>\n      <td>0.170181</td>\n      <td>-0.004059</td>\n      <td>0.005405</td>\n      <td>0.003466</td>\n      <td>-0.000681</td>\n      <td>1.000000e+00</td>\n      <td>-0.017349</td>\n      <td>-0.032267</td>\n      <td>0.005755</td>\n      <td>...</td>\n      <td>0.002419</td>\n      <td>-0.000991</td>\n      <td>0.005906</td>\n      <td>-0.001456</td>\n      <td>0.003871</td>\n      <td>0.000274</td>\n      <td>-0.010310</td>\n      <td>0.016152</td>\n      <td>-0.398444</td>\n      <td>-0.085749</td>\n    </tr>\n    <tr>\n      <th>V6</th>\n      <td>0.002624</td>\n      <td>-0.062820</td>\n      <td>-0.000950</td>\n      <td>-0.000770</td>\n      <td>-0.005683</td>\n      <td>0.003023</td>\n      <td>-1.734882e-02</td>\n      <td>1.000000</td>\n      <td>0.018089</td>\n      <td>-0.003159</td>\n      <td>...</td>\n      <td>-0.004006</td>\n      <td>0.002360</td>\n      <td>-0.003613</td>\n      <td>-0.001079</td>\n      <td>-0.000570</td>\n      <td>-0.000542</td>\n      <td>0.004815</td>\n      <td>-0.010702</td>\n      <td>0.226594</td>\n      <td>-0.045829</td>\n    </tr>\n    <tr>\n      <th>V7</th>\n      <td>-0.002258</td>\n      <td>0.081971</td>\n      <td>-0.013030</td>\n      <td>-0.003275</td>\n      <td>-0.017712</td>\n      <td>0.005469</td>\n      <td>-3.226654e-02</td>\n      <td>0.018089</td>\n      <td>1.000000</td>\n      <td>-0.008724</td>\n      <td>...</td>\n      <td>-0.002709</td>\n      <td>-0.001756</td>\n      <td>-0.001386</td>\n      <td>0.001211</td>\n      <td>-0.000879</td>\n      <td>0.000178</td>\n      <td>0.013897</td>\n      <td>-0.016055</td>\n      <td>0.416707</td>\n      <td>-0.175477</td>\n    </tr>\n    <tr>\n      <th>V8</th>\n      <td>0.002575</td>\n      <td>-0.038908</td>\n      <td>0.001191</td>\n      <td>0.001559</td>\n      <td>0.003360</td>\n      <td>0.000869</td>\n      <td>5.755427e-03</td>\n      <td>-0.003159</td>\n      <td>-0.008724</td>\n      <td>1.000000</td>\n      <td>...</td>\n      <td>0.007102</td>\n      <td>-0.000464</td>\n      <td>0.005816</td>\n      <td>0.000227</td>\n      <td>-0.001585</td>\n      <td>-0.002143</td>\n      <td>-0.003816</td>\n      <td>0.002565</td>\n      <td>-0.107922</td>\n      <td>0.028849</td>\n    </tr>\n    <tr>\n      <th>V9</th>\n      <td>0.002402</td>\n      <td>-0.010146</td>\n      <td>-0.002875</td>\n      <td>-0.000978</td>\n      <td>-0.000621</td>\n      <td>0.000595</td>\n      <td>5.609915e-07</td>\n      <td>-0.001109</td>\n      <td>-0.006029</td>\n      <td>0.000891</td>\n      <td>...</td>\n      <td>-0.000875</td>\n      <td>-0.000254</td>\n      <td>-0.002025</td>\n      <td>-0.003059</td>\n      <td>-0.001899</td>\n      <td>-0.001390</td>\n      <td>-0.000095</td>\n      <td>-0.000206</td>\n      <td>-0.044092</td>\n      <td>-0.096935</td>\n    </tr>\n    <tr>\n      <th>V10</th>\n      <td>-0.001091</td>\n      <td>0.028849</td>\n      <td>-0.001981</td>\n      <td>0.003146</td>\n      <td>0.000060</td>\n      <td>0.001967</td>\n      <td>9.126765e-04</td>\n      <td>-0.002938</td>\n      <td>-0.014868</td>\n      <td>-0.001990</td>\n      <td>...</td>\n      <td>-0.002185</td>\n      <td>-0.000005</td>\n      <td>0.003472</td>\n      <td>-0.001397</td>\n      <td>0.000694</td>\n      <td>0.000776</td>\n      <td>-0.000315</td>\n      <td>0.001814</td>\n      <td>-0.107009</td>\n      <td>-0.212370</td>\n    </tr>\n    <tr>\n      <th>V11</th>\n      <td>0.003910</td>\n      <td>-0.246408</td>\n      <td>-0.000983</td>\n      <td>-0.001960</td>\n      <td>-0.000442</td>\n      <td>0.002725</td>\n      <td>-1.115499e-03</td>\n      <td>-0.000092</td>\n      <td>0.001344</td>\n      <td>0.003465</td>\n      <td>...</td>\n      <td>-0.003843</td>\n      <td>-0.001583</td>\n      <td>-0.002693</td>\n      <td>-0.000148</td>\n      <td>-0.001627</td>\n      <td>0.000877</td>\n      <td>0.004646</td>\n      <td>-0.000421</td>\n      <td>0.002524</td>\n      <td>0.155631</td>\n    </tr>\n    <tr>\n      <th>V12</th>\n      <td>0.001443</td>\n      <td>0.125714</td>\n      <td>-0.002422</td>\n      <td>-0.000470</td>\n      <td>-0.000731</td>\n      <td>-0.002332</td>\n      <td>-5.991012e-05</td>\n      <td>0.000917</td>\n      <td>-0.005061</td>\n      <td>-0.002778</td>\n      <td>...</td>\n      <td>0.002585</td>\n      <td>-0.002644</td>\n      <td>0.000487</td>\n      <td>0.002096</td>\n      <td>-0.000358</td>\n      <td>-0.001507</td>\n      <td>-0.004012</td>\n      <td>0.002413</td>\n      <td>-0.009540</td>\n      <td>-0.262297</td>\n    </tr>\n    <tr>\n      <th>V13</th>\n      <td>0.004326</td>\n      <td>-0.065911</td>\n      <td>-0.002999</td>\n      <td>-0.002856</td>\n      <td>-0.001792</td>\n      <td>0.000198</td>\n      <td>-4.668272e-04</td>\n      <td>-0.000658</td>\n      <td>0.001633</td>\n      <td>-0.001010</td>\n      <td>...</td>\n      <td>-0.000207</td>\n      <td>0.000057</td>\n      <td>-0.000474</td>\n      <td>-0.001650</td>\n      <td>0.000847</td>\n      <td>-0.000800</td>\n      <td>0.003643</td>\n      <td>-0.001874</td>\n      <td>0.008201</td>\n      <td>-0.001493</td>\n    </tr>\n    <tr>\n      <th>V14</th>\n      <td>0.002251</td>\n      <td>-0.097978</td>\n      <td>-0.000408</td>\n      <td>-0.000530</td>\n      <td>0.000160</td>\n      <td>-0.001777</td>\n      <td>-1.766889e-03</td>\n      <td>0.001444</td>\n      <td>-0.000088</td>\n      <td>-0.004538</td>\n      <td>...</td>\n      <td>0.004061</td>\n      <td>-0.002261</td>\n      <td>0.001311</td>\n      <td>0.000181</td>\n      <td>0.000431</td>\n      <td>-0.000647</td>\n      <td>-0.004270</td>\n      <td>-0.002209</td>\n      <td>0.034834</td>\n      <td>-0.305740</td>\n    </tr>\n    <tr>\n      <th>V15</th>\n      <td>0.001471</td>\n      <td>-0.182926</td>\n      <td>-0.004336</td>\n      <td>-0.000889</td>\n      <td>-0.003430</td>\n      <td>0.002417</td>\n      <td>-1.750225e-03</td>\n      <td>0.000476</td>\n      <td>0.003675</td>\n      <td>-0.000171</td>\n      <td>...</td>\n      <td>-0.001871</td>\n      <td>-0.002393</td>\n      <td>-0.002133</td>\n      <td>0.000226</td>\n      <td>0.001428</td>\n      <td>-0.001285</td>\n      <td>0.001156</td>\n      <td>-0.001986</td>\n      <td>0.002410</td>\n      <td>-0.003347</td>\n    </tr>\n    <tr>\n      <th>V16</th>\n      <td>-0.000760</td>\n      <td>0.014458</td>\n      <td>-0.003554</td>\n      <td>0.001253</td>\n      <td>-0.004401</td>\n      <td>0.001887</td>\n      <td>-3.393978e-03</td>\n      <td>0.003194</td>\n      <td>0.005669</td>\n      <td>-0.004292</td>\n      <td>...</td>\n      <td>0.000423</td>\n      <td>0.000442</td>\n      <td>-0.001772</td>\n      <td>-0.000065</td>\n      <td>-0.001639</td>\n      <td>0.000504</td>\n      <td>0.003040</td>\n      <td>-0.001314</td>\n      <td>0.002473</td>\n      <td>-0.193176</td>\n    </tr>\n    <tr>\n      <th>V17</th>\n      <td>-0.001043</td>\n      <td>-0.071248</td>\n      <td>-0.002765</td>\n      <td>0.003332</td>\n      <td>-0.003523</td>\n      <td>0.001280</td>\n      <td>-2.164045e-03</td>\n      <td>-0.000903</td>\n      <td>-0.006341</td>\n      <td>-0.003909</td>\n      <td>...</td>\n      <td>0.002362</td>\n      <td>-0.000750</td>\n      <td>0.001278</td>\n      <td>-0.000468</td>\n      <td>0.000051</td>\n      <td>-0.000673</td>\n      <td>-0.002460</td>\n      <td>0.000876</td>\n      <td>0.004971</td>\n      <td>-0.318848</td>\n    </tr>\n    <tr>\n      <th>V18</th>\n      <td>0.000040</td>\n      <td>0.090408</td>\n      <td>-0.001234</td>\n      <td>0.000409</td>\n      <td>-0.004053</td>\n      <td>0.002222</td>\n      <td>-1.920661e-03</td>\n      <td>0.001790</td>\n      <td>-0.000503</td>\n      <td>-0.003346</td>\n      <td>...</td>\n      <td>0.001622</td>\n      <td>0.000076</td>\n      <td>0.004945</td>\n      <td>-0.000877</td>\n      <td>0.000138</td>\n      <td>-0.001581</td>\n      <td>-0.001202</td>\n      <td>0.002616</td>\n      <td>0.038067</td>\n      <td>-0.107438</td>\n    </tr>\n    <tr>\n      <th>V19</th>\n      <td>0.002921</td>\n      <td>0.030096</td>\n      <td>0.000505</td>\n      <td>0.001647</td>\n      <td>0.002326</td>\n      <td>-0.000368</td>\n      <td>-3.243944e-04</td>\n      <td>0.000097</td>\n      <td>-0.003732</td>\n      <td>0.000097</td>\n      <td>...</td>\n      <td>-0.001878</td>\n      <td>0.001064</td>\n      <td>0.001500</td>\n      <td>0.000104</td>\n      <td>0.000990</td>\n      <td>0.000340</td>\n      <td>0.000741</td>\n      <td>-0.000674</td>\n      <td>-0.057933</td>\n      <td>0.034937</td>\n    </tr>\n    <tr>\n      <th>V20</th>\n      <td>-0.002189</td>\n      <td>-0.050186</td>\n      <td>0.000689</td>\n      <td>-0.002352</td>\n      <td>0.000424</td>\n      <td>0.001718</td>\n      <td>1.158665e-03</td>\n      <td>0.000489</td>\n      <td>-0.001784</td>\n      <td>-0.001349</td>\n      <td>...</td>\n      <td>0.012137</td>\n      <td>-0.005174</td>\n      <td>0.006541</td>\n      <td>-0.000355</td>\n      <td>-0.002454</td>\n      <td>-0.001592</td>\n      <td>-0.013135</td>\n      <td>0.007684</td>\n      <td>0.332064</td>\n      <td>0.017815</td>\n    </tr>\n    <tr>\n      <th>V21</th>\n      <td>-0.000557</td>\n      <td>0.044472</td>\n      <td>0.001283</td>\n      <td>0.001179</td>\n      <td>0.000686</td>\n      <td>0.000264</td>\n      <td>2.418584e-03</td>\n      <td>-0.004006</td>\n      <td>-0.002709</td>\n      <td>0.007102</td>\n      <td>...</td>\n      <td>1.000000</td>\n      <td>0.005164</td>\n      <td>0.005386</td>\n      <td>-0.001849</td>\n      <td>-0.000732</td>\n      <td>-0.000633</td>\n      <td>-0.012280</td>\n      <td>-0.000080</td>\n      <td>0.099551</td>\n      <td>0.035439</td>\n    </tr>\n    <tr>\n      <th>V22</th>\n      <td>0.002747</td>\n      <td>0.146647</td>\n      <td>0.003455</td>\n      <td>0.004738</td>\n      <td>0.001065</td>\n      <td>0.000787</td>\n      <td>-9.912322e-04</td>\n      <td>0.002360</td>\n      <td>-0.001756</td>\n      <td>-0.000464</td>\n      <td>...</td>\n      <td>0.005164</td>\n      <td>1.000000</td>\n      <td>0.004141</td>\n      <td>0.001517</td>\n      <td>0.003010</td>\n      <td>-0.001824</td>\n      <td>0.001752</td>\n      <td>0.000163</td>\n      <td>-0.067241</td>\n      <td>0.002570</td>\n    </tr>\n    <tr>\n      <th>V23</th>\n      <td>-0.000327</td>\n      <td>0.050014</td>\n      <td>0.009165</td>\n      <td>0.008968</td>\n      <td>0.007911</td>\n      <td>-0.004854</td>\n      <td>5.906077e-03</td>\n      <td>-0.003613</td>\n      <td>-0.001386</td>\n      <td>0.005816</td>\n      <td>...</td>\n      <td>0.005386</td>\n      <td>0.004141</td>\n      <td>1.000000</td>\n      <td>-0.000429</td>\n      <td>0.008966</td>\n      <td>0.001114</td>\n      <td>-0.006983</td>\n      <td>0.015665</td>\n      <td>-0.119333</td>\n      <td>-0.008064</td>\n    </tr>\n    <tr>\n      <th>V24</th>\n      <td>0.003484</td>\n      <td>-0.015530</td>\n      <td>-0.001687</td>\n      <td>-0.001869</td>\n      <td>0.000598</td>\n      <td>-0.000733</td>\n      <td>-1.456422e-03</td>\n      <td>-0.001079</td>\n      <td>0.001211</td>\n      <td>0.000227</td>\n      <td>...</td>\n      <td>-0.001849</td>\n      <td>0.001517</td>\n      <td>-0.000429</td>\n      <td>1.000000</td>\n      <td>-0.000642</td>\n      <td>-0.000516</td>\n      <td>0.003305</td>\n      <td>-0.003027</td>\n      <td>0.007650</td>\n      <td>-0.007380</td>\n    </tr>\n    <tr>\n      <th>V25</th>\n      <td>-0.003406</td>\n      <td>-0.231385</td>\n      <td>0.003159</td>\n      <td>0.003129</td>\n      <td>0.000614</td>\n      <td>-0.001424</td>\n      <td>3.871400e-03</td>\n      <td>-0.000570</td>\n      <td>-0.000879</td>\n      <td>-0.001585</td>\n      <td>...</td>\n      <td>-0.000732</td>\n      <td>0.003010</td>\n      <td>0.008966</td>\n      <td>-0.000642</td>\n      <td>1.000000</td>\n      <td>0.000745</td>\n      <td>-0.002016</td>\n      <td>0.002033</td>\n      <td>-0.051530</td>\n      <td>0.002380</td>\n    </tr>\n    <tr>\n      <th>V26</th>\n      <td>-0.002261</td>\n      <td>-0.042524</td>\n      <td>-0.001494</td>\n      <td>0.000053</td>\n      <td>-0.001211</td>\n      <td>0.001669</td>\n      <td>2.742120e-04</td>\n      <td>-0.000542</td>\n      <td>0.000178</td>\n      <td>-0.002143</td>\n      <td>...</td>\n      <td>-0.000633</td>\n      <td>-0.001824</td>\n      <td>0.001114</td>\n      <td>-0.000516</td>\n      <td>0.000745</td>\n      <td>1.000000</td>\n      <td>0.000507</td>\n      <td>-0.000257</td>\n      <td>-0.002153</td>\n      <td>0.007063</td>\n    </tr>\n    <tr>\n      <th>V27</th>\n      <td>-0.001694</td>\n      <td>-0.007401</td>\n      <td>-0.001690</td>\n      <td>-0.007049</td>\n      <td>-0.003072</td>\n      <td>0.004668</td>\n      <td>-1.031044e-02</td>\n      <td>0.004815</td>\n      <td>0.013897</td>\n      <td>-0.003816</td>\n      <td>...</td>\n      <td>-0.012280</td>\n      <td>0.001752</td>\n      <td>-0.006983</td>\n      <td>0.003305</td>\n      <td>-0.002016</td>\n      <td>0.000507</td>\n      <td>1.000000</td>\n      <td>-0.008296</td>\n      <td>0.045389</td>\n      <td>0.019150</td>\n    </tr>\n    <tr>\n      <th>V28</th>\n      <td>-0.001597</td>\n      <td>-0.010869</td>\n      <td>-0.000226</td>\n      <td>-0.003347</td>\n      <td>0.007200</td>\n      <td>0.002935</td>\n      <td>1.615189e-02</td>\n      <td>-0.010702</td>\n      <td>-0.016055</td>\n      <td>0.002565</td>\n      <td>...</td>\n      <td>-0.000080</td>\n      <td>0.000163</td>\n      <td>0.015665</td>\n      <td>-0.003027</td>\n      <td>0.002033</td>\n      <td>-0.000257</td>\n      <td>-0.008296</td>\n      <td>1.000000</td>\n      <td>-0.003199</td>\n      <td>0.010179</td>\n    </tr>\n    <tr>\n      <th>Amount</th>\n      <td>0.002183</td>\n      <td>-0.009885</td>\n      <td>-0.235517</td>\n      <td>-0.534306</td>\n      <td>-0.220770</td>\n      <td>0.105724</td>\n      <td>-3.984443e-01</td>\n      <td>0.226594</td>\n      <td>0.416707</td>\n      <td>-0.107922</td>\n      <td>...</td>\n      <td>0.099551</td>\n      <td>-0.067241</td>\n      <td>-0.119333</td>\n      <td>0.007650</td>\n      <td>-0.051530</td>\n      <td>-0.002153</td>\n      <td>0.045389</td>\n      <td>-0.003199</td>\n      <td>1.000000</td>\n      <td>0.004111</td>\n    </tr>\n    <tr>\n      <th>Class</th>\n      <td>0.000140</td>\n      <td>-0.013910</td>\n      <td>-0.093115</td>\n      <td>0.085920</td>\n      <td>-0.186946</td>\n      <td>0.135672</td>\n      <td>-8.574884e-02</td>\n      <td>-0.045829</td>\n      <td>-0.175477</td>\n      <td>0.028849</td>\n      <td>...</td>\n      <td>0.035439</td>\n      <td>0.002570</td>\n      <td>-0.008064</td>\n      <td>-0.007380</td>\n      <td>0.002380</td>\n      <td>0.007063</td>\n      <td>0.019150</td>\n      <td>0.010179</td>\n      <td>0.004111</td>\n      <td>1.000000</td>\n    </tr>\n  </tbody>\n</table>\n<p>32 rows × 32 columns</p>\n</div>"
     },
     "execution_count": 9,
     "metadata": {},
     "output_type": "execute_result"
    }
   ],
   "source": [
    "data.corr()"
   ],
   "metadata": {
    "collapsed": false,
    "pycharm": {
     "name": "#%%\n"
    }
   }
  },
  {
   "cell_type": "code",
   "execution_count": 10,
   "outputs": [
    {
     "data": {
      "text/plain": "<Figure size 288x288 with 2 Axes>",
      "image/png": "[encoded data removed]"
     },
     "metadata": {
      "needs_background": "light"
     },
     "output_type": "display_data"
    }
   ],
   "source": [
    "plt.matshow(data.corr())\n",
    "continuous_feature = data.describe().columns\n",
    "plt.xticks(range(len(continuous_feature)), continuous_feature, rotation = 45)\n",
    "plt.yticks(range(len(continuous_feature)), continuous_feature, rotation = 45)\n",
    "plt.colorbar()\n",
    "plt.show()"
   ],
   "metadata": {
    "collapsed": false,
    "pycharm": {
     "name": "#%%\n"
    }
   }
  },
  {
   "cell_type": "markdown",
   "source": [
    "## 3. Data preparation"
   ],
   "metadata": {
    "collapsed": false
   }
  },
  {
   "cell_type": "markdown",
   "source": [
    "### Clean"
   ],
   "metadata": {
    "collapsed": false
   }
  },
  {
   "cell_type": "markdown",
   "source": [
    "Thuộc tính thừa"
   ],
   "metadata": {
    "collapsed": false
   }
  },
  {
   "cell_type": "code",
   "execution_count": 11,
   "outputs": [],
   "source": [
    "def drop_feature(data_frame):\n",
    "    data_frame = data_frame.drop(['ID'], axis = 1)\n",
    "    return data_frame"
   ],
   "metadata": {
    "collapsed": false,
    "pycharm": {
     "name": "#%%\n"
    }
   }
  },
  {
   "cell_type": "code",
   "execution_count": 12,
   "outputs": [],
   "source": [
    "data = drop_feature(data)"
   ],
   "metadata": {
    "collapsed": false,
    "pycharm": {
     "name": "#%%\n"
    }
   }
  },
  {
   "cell_type": "code",
   "execution_count": 13,
   "outputs": [
    {
     "data": {
      "text/plain": "            Time        V1        V2        V3        V4        V5        V6  \\\n0         2105.0 -2.289565 -0.480260  0.818685 -1.706423  0.822102 -1.660326   \n1       153702.0 -0.313717 -4.064342 -3.398445  0.704011  0.101662  1.529848   \n2        97283.0 -1.809763 -0.567439  2.265186 -0.960318 -1.212537  1.516493   \n3        68628.0  1.192319  0.178575  0.141491  0.459628 -0.049959 -0.112122   \n4        11951.0 -0.963451  0.700311  1.097333 -1.547626  0.669966  0.513533   \n...          ...       ...       ...       ...       ...       ...       ...   \n199359   75618.0  1.173488  0.100792  0.490512  0.461596 -0.296377 -0.213165   \n199360  159000.0 -0.775981  0.144023 -1.142399 -1.241113  1.940358  3.912076   \n199361   79795.0 -0.146609  0.992946  1.524591  0.485774  0.349308 -0.815198   \n199362   87931.0 -2.948638  2.354849 -2.521201 -3.798905  1.866302  2.727695   \n199363   76381.0  1.233174 -0.784851  0.386784 -0.698559 -1.034018 -0.637028   \n\n              V7        V8        V9  ...       V21       V22       V23  \\\n0       0.944047 -0.541765  1.323156  ... -0.210837  0.914737  0.867888   \n1       1.551670 -0.036774  0.015829  ...  0.853186 -0.091941 -0.936215   \n2      -1.417176  0.903421  1.961027  ... -0.509915 -0.424978 -0.268621   \n3      -0.163883  0.155740 -0.067566  ... -0.240464 -0.739862  0.116799   \n4       0.333683  0.270900  1.381880  ... -0.279519 -0.470181 -0.124037   \n...          ...       ...       ...  ...       ...       ...       ...   \n199359 -0.165254  0.119221 -0.114199  ... -0.186027 -0.574283  0.161405   \n199360 -0.466107  1.360620  0.400697  ...  0.037078 -0.019575  0.241830   \n199361  1.076640 -0.395316 -0.491303  ...  0.052649  0.354089 -0.291198   \n199362 -0.471769  2.217537  0.580199  ... -0.332759 -1.047514  0.143326   \n199363 -0.502369 -0.188057 -0.749637  ...  0.027634 -0.234522 -0.059544   \n\n             V24       V25       V26       V27       V28   Amount  Class  \n0       0.422969  0.310584 -0.781488  0.392241 -0.147757     1.00      0  \n1      -0.833081 -0.498728  0.651183 -0.290331  0.110360  1194.28      0  \n2       0.010121  0.466862  0.835540 -0.062385  0.088079    75.00      0  \n3      -0.373837  0.125470  0.130126 -0.016956  0.011937     1.98      0  \n4      -1.388839 -0.237453  0.785347  0.349708  0.216207    37.31      0  \n...          ...       ...       ...       ...       ...      ...    ...  \n199359 -0.006140  0.091444  0.109235 -0.020922  0.003967     1.98      0  \n199360  0.682820 -1.635109 -0.770941  0.066006  0.137056    89.23      0  \n199361  0.402849  0.237383 -0.398467 -0.121139 -0.196195     3.94      0  \n199362  0.678869  0.319710  0.426309  0.496912  0.335822     1.00      0  \n199363 -0.109073  0.290326 -0.393074  0.001217  0.038588   113.00      0  \n\n[199364 rows x 31 columns]",
      "text/html": "<div>\n<style scoped>\n    .dataframe tbody tr th:only-of-type {\n        vertical-align: middle;\n    }\n\n    .dataframe tbody tr th {\n        vertical-align: top;\n    }\n\n    .dataframe thead th {\n        text-align: right;\n    }\n</style>\n<table border=\"1\" class=\"dataframe\">\n  <thead>\n    <tr style=\"text-align: right;\">\n      <th></th>\n      <th>Time</th>\n      <th>V1</th>\n      <th>V2</th>\n      <th>V3</th>\n      <th>V4</th>\n      <th>V5</th>\n      <th>V6</th>\n      <th>V7</th>\n      <th>V8</th>\n      <th>V9</th>\n      <th>...</th>\n      <th>V21</th>\n      <th>V22</th>\n      <th>V23</th>\n      <th>V24</th>\n      <th>V25</th>\n      <th>V26</th>\n      <th>V27</th>\n      <th>V28</th>\n      <th>Amount</th>\n      <th>Class</th>\n    </tr>\n  </thead>\n  <tbody>\n    <tr>\n      <th>0</th>\n      <td>2105.0</td>\n      <td>-2.289565</td>\n      <td>-0.480260</td>\n      <td>0.818685</td>\n      <td>-1.706423</td>\n      <td>0.822102</td>\n      <td>-1.660326</td>\n      <td>0.944047</td>\n      <td>-0.541765</td>\n      <td>1.323156</td>\n      <td>...</td>\n      <td>-0.210837</td>\n      <td>0.914737</td>\n      <td>0.867888</td>\n      <td>0.422969</td>\n      <td>0.310584</td>\n      <td>-0.781488</td>\n      <td>0.392241</td>\n      <td>-0.147757</td>\n      <td>1.00</td>\n      <td>0</td>\n    </tr>\n    <tr>\n      <th>1</th>\n      <td>153702.0</td>\n      <td>-0.313717</td>\n      <td>-4.064342</td>\n      <td>-3.398445</td>\n      <td>0.704011</td>\n      <td>0.101662</td>\n      <td>1.529848</td>\n      <td>1.551670</td>\n      <td>-0.036774</td>\n      <td>0.015829</td>\n      <td>...</td>\n      <td>0.853186</td>\n      <td>-0.091941</td>\n      <td>-0.936215</td>\n      <td>-0.833081</td>\n      <td>-0.498728</td>\n      <td>0.651183</td>\n      <td>-0.290331</td>\n      <td>0.110360</td>\n      <td>1194.28</td>\n      <td>0</td>\n    </tr>\n    <tr>\n      <th>2</th>\n      <td>97283.0</td>\n      <td>-1.809763</td>\n      <td>-0.567439</td>\n      <td>2.265186</td>\n      <td>-0.960318</td>\n      <td>-1.212537</td>\n      <td>1.516493</td>\n      <td>-1.417176</td>\n      <td>0.903421</td>\n      <td>1.961027</td>\n      <td>...</td>\n      <td>-0.509915</td>\n      <td>-0.424978</td>\n      <td>-0.268621</td>\n      <td>0.010121</td>\n      <td>0.466862</td>\n      <td>0.835540</td>\n      <td>-0.062385</td>\n      <td>0.088079</td>\n      <td>75.00</td>\n      <td>0</td>\n    </tr>\n    <tr>\n      <th>3</th>\n      <td>68628.0</td>\n      <td>1.192319</td>\n      <td>0.178575</td>\n      <td>0.141491</td>\n      <td>0.459628</td>\n      <td>-0.049959</td>\n      <td>-0.112122</td>\n      <td>-0.163883</td>\n      <td>0.155740</td>\n      <td>-0.067566</td>\n      <td>...</td>\n      <td>-0.240464</td>\n      <td>-0.739862</td>\n      <td>0.116799</td>\n      <td>-0.373837</td>\n      <td>0.125470</td>\n      <td>0.130126</td>\n      <td>-0.016956</td>\n      <td>0.011937</td>\n      <td>1.98</td>\n      <td>0</td>\n    </tr>\n    <tr>\n      <th>4</th>\n      <td>11951.0</td>\n      <td>-0.963451</td>\n      <td>0.700311</td>\n      <td>1.097333</td>\n      <td>-1.547626</td>\n      <td>0.669966</td>\n      <td>0.513533</td>\n      <td>0.333683</td>\n      <td>0.270900</td>\n      <td>1.381880</td>\n      <td>...</td>\n      <td>-0.279519</td>\n      <td>-0.470181</td>\n      <td>-0.124037</td>\n      <td>-1.388839</td>\n      <td>-0.237453</td>\n      <td>0.785347</td>\n      <td>0.349708</td>\n      <td>0.216207</td>\n      <td>37.31</td>\n      <td>0</td>\n    </tr>\n    <tr>\n      <th>...</th>\n      <td>...</td>\n      <td>...</td>\n      <td>...</td>\n      <td>...</td>\n      <td>...</td>\n      <td>...</td>\n      <td>...</td>\n      <td>...</td>\n      <td>...</td>\n      <td>...</td>\n      <td>...</td>\n      <td>...</td>\n      <td>...</td>\n      <td>...</td>\n      <td>...</td>\n      <td>...</td>\n      <td>...</td>\n      <td>...</td>\n      <td>...</td>\n      <td>...</td>\n      <td>...</td>\n    </tr>\n    <tr>\n      <th>199359</th>\n      <td>75618.0</td>\n      <td>1.173488</td>\n      <td>0.100792</td>\n      <td>0.490512</td>\n      <td>0.461596</td>\n      <td>-0.296377</td>\n      <td>-0.213165</td>\n      <td>-0.165254</td>\n      <td>0.119221</td>\n      <td>-0.114199</td>\n      <td>...</td>\n      <td>-0.186027</td>\n      <td>-0.574283</td>\n      <td>0.161405</td>\n      <td>-0.006140</td>\n      <td>0.091444</td>\n      <td>0.109235</td>\n      <td>-0.020922</td>\n      <td>0.003967</td>\n      <td>1.98</td>\n      <td>0</td>\n    </tr>\n    <tr>\n      <th>199360</th>\n      <td>159000.0</td>\n      <td>-0.775981</td>\n      <td>0.144023</td>\n      <td>-1.142399</td>\n      <td>-1.241113</td>\n      <td>1.940358</td>\n      <td>3.912076</td>\n      <td>-0.466107</td>\n      <td>1.360620</td>\n      <td>0.400697</td>\n      <td>...</td>\n      <td>0.037078</td>\n      <td>-0.019575</td>\n      <td>0.241830</td>\n      <td>0.682820</td>\n      <td>-1.635109</td>\n      <td>-0.770941</td>\n      <td>0.066006</td>\n      <td>0.137056</td>\n      <td>89.23</td>\n      <td>0</td>\n    </tr>\n    <tr>\n      <th>199361</th>\n      <td>79795.0</td>\n      <td>-0.146609</td>\n      <td>0.992946</td>\n      <td>1.524591</td>\n      <td>0.485774</td>\n      <td>0.349308</td>\n      <td>-0.815198</td>\n      <td>1.076640</td>\n      <td>-0.395316</td>\n      <td>-0.491303</td>\n      <td>...</td>\n      <td>0.052649</td>\n      <td>0.354089</td>\n      <td>-0.291198</td>\n      <td>0.402849</td>\n      <td>0.237383</td>\n      <td>-0.398467</td>\n      <td>-0.121139</td>\n      <td>-0.196195</td>\n      <td>3.94</td>\n      <td>0</td>\n    </tr>\n    <tr>\n      <th>199362</th>\n      <td>87931.0</td>\n      <td>-2.948638</td>\n      <td>2.354849</td>\n      <td>-2.521201</td>\n      <td>-3.798905</td>\n      <td>1.866302</td>\n      <td>2.727695</td>\n      <td>-0.471769</td>\n      <td>2.217537</td>\n      <td>0.580199</td>\n      <td>...</td>\n      <td>-0.332759</td>\n      <td>-1.047514</td>\n      <td>0.143326</td>\n      <td>0.678869</td>\n      <td>0.319710</td>\n      <td>0.426309</td>\n      <td>0.496912</td>\n      <td>0.335822</td>\n      <td>1.00</td>\n      <td>0</td>\n    </tr>\n    <tr>\n      <th>199363</th>\n      <td>76381.0</td>\n      <td>1.233174</td>\n      <td>-0.784851</td>\n      <td>0.386784</td>\n      <td>-0.698559</td>\n      <td>-1.034018</td>\n      <td>-0.637028</td>\n      <td>-0.502369</td>\n      <td>-0.188057</td>\n      <td>-0.749637</td>\n      <td>...</td>\n      <td>0.027634</td>\n      <td>-0.234522</td>\n      <td>-0.059544</td>\n      <td>-0.109073</td>\n      <td>0.290326</td>\n      <td>-0.393074</td>\n      <td>0.001217</td>\n      <td>0.038588</td>\n      <td>113.00</td>\n      <td>0</td>\n    </tr>\n  </tbody>\n</table>\n<p>199364 rows × 31 columns</p>\n</div>"
     },
     "execution_count": 13,
     "metadata": {},
     "output_type": "execute_result"
    }
   ],
   "source": [
    "data"
   ],
   "metadata": {
    "collapsed": false,
    "pycharm": {
     "name": "#%%\n"
    }
   }
  },
  {
   "cell_type": "markdown",
   "source": [
    "Xử lý outliner\n",
    "Làm theo hướng dẫn tại https://machinelearningcoban.com/tabml_book/ch_data_processing/process_outliers.html"
   ],
   "metadata": {
    "collapsed": false
   }
  },
  {
   "cell_type": "code",
   "execution_count": 14,
   "outputs": [],
   "source": [
    "def find_boxplot_boundaries(\n",
    "        col: pd.Series, whisker_coeff: float = 1.5\n",
    ") -> Tuple[float, float]:\n",
    "    \"\"\"Findx minimum and maximum in boxplot.\n",
    "\n",
    "    Args:\n",
    "        col: a pandas serires of input.\n",
    "        whisker_coeff: whisker coefficient in box plot\n",
    "    \"\"\"\n",
    "    Q1 = col.quantile(0.25)\n",
    "    Q3 = col.quantile(0.75)\n",
    "    IQR = Q3 - Q1\n",
    "    lower = Q1 - whisker_coeff * IQR\n",
    "    upper = Q3 + whisker_coeff * IQR\n",
    "    return lower, upper\n",
    "\n",
    "\n",
    "class BoxplotOutlierClipper(BaseEstimator, TransformerMixin):\n",
    "    def __init__(self, whisker_coeff: float = 1.5):\n",
    "        self.whisker = whisker_coeff\n",
    "        self.lower = None\n",
    "        self.upper = None\n",
    "\n",
    "    def fit(self, X: pd.Series):\n",
    "        self.lower, self.upper = find_boxplot_boundaries(X, self.whisker)\n",
    "        return self\n",
    "\n",
    "    def transform(self, X):\n",
    "        return X.clip(self.lower, self.upper)"
   ],
   "metadata": {
    "collapsed": false,
    "pycharm": {
     "name": "#%%\n"
    }
   }
  },
  {
   "cell_type": "code",
   "execution_count": 15,
   "outputs": [],
   "source": [
    "col_outliner = data.columns.values.tolist()\n",
    "def pre_outlier(data_frame):\n",
    "    for col in col_outliner[:30]:\n",
    "        clipped_total_rooms = BoxplotOutlierClipper().fit_transform(data_frame[col])\n",
    "        data_frame[col] = clipped_total_rooms\n",
    "    return data_frame"
   ],
   "metadata": {
    "collapsed": false,
    "pycharm": {
     "name": "#%%\n"
    }
   }
  },
  {
   "cell_type": "code",
   "execution_count": 16,
   "outputs": [],
   "source": [
    "data = pre_outlier(data)"
   ],
   "metadata": {
    "collapsed": false,
    "pycharm": {
     "name": "#%%\n"
    }
   }
  },
  {
   "cell_type": "code",
   "execution_count": 17,
   "outputs": [
    {
     "data": {
      "text/plain": "<Figure size 1080x360 with 2 Axes>",
      "image/png": "[encoded data removed]"
     },
     "metadata": {
      "needs_background": "light"
     },
     "output_type": "display_data"
    }
   ],
   "source": [
    "view = data['V10']\n",
    "fig, axes = plt.subplots(nrows=1, ncols=2, figsize=(15, 5))\n",
    "view.hist(bins=50, ax=axes[0])\n",
    "view.to_frame().boxplot(ax=axes[1], vert=False);"
   ],
   "metadata": {
    "collapsed": false,
    "pycharm": {
     "name": "#%%\n"
    }
   }
  },
  {
   "cell_type": "markdown",
   "source": [
    "### Normalization"
   ],
   "metadata": {
    "collapsed": false
   }
  },
  {
   "cell_type": "markdown",
   "source": [
    "Min-max scaler"
   ],
   "metadata": {
    "collapsed": false
   }
  },
  {
   "cell_type": "code",
   "execution_count": 18,
   "outputs": [],
   "source": [
    "min_max_scaler = MinMaxScaler()\n",
    "col_mm = ['Time','Amount']"
   ],
   "metadata": {
    "collapsed": false,
    "pycharm": {
     "name": "#%%\n"
    }
   }
  },
  {
   "cell_type": "markdown",
   "source": [
    "Trên tập train"
   ],
   "metadata": {
    "collapsed": false
   }
  },
  {
   "cell_type": "code",
   "execution_count": 19,
   "outputs": [],
   "source": [
    "min_max_scaler.fit(data[col_mm])\n",
    "x_scaled = min_max_scaler.transform(data[col_mm])\n",
    "normalized_features = pd.DataFrame(x_scaled, columns=col_mm, index = data.index)\n",
    "data[col_mm] = normalized_features"
   ],
   "metadata": {
    "collapsed": false,
    "pycharm": {
     "name": "#%%\n"
    }
   }
  },
  {
   "cell_type": "markdown",
   "source": [
    "Trên các tập còn lại"
   ],
   "metadata": {
    "collapsed": false
   }
  },
  {
   "cell_type": "code",
   "execution_count": 20,
   "outputs": [],
   "source": [
    "def minmax(df_tmp):\n",
    "    x_scaled = min_max_scaler.transform(df_tmp[col_mm])\n",
    "    normalized_features = pd.DataFrame(x_scaled, columns=col_mm, index = df_tmp.index)\n",
    "    return normalized_features"
   ],
   "metadata": {
    "collapsed": false,
    "pycharm": {
     "name": "#%%\n"
    }
   }
  },
  {
   "cell_type": "markdown",
   "source": [
    "### Standlization"
   ],
   "metadata": {
    "collapsed": false
   }
  },
  {
   "cell_type": "code",
   "execution_count": 21,
   "outputs": [],
   "source": [
    "standard_scaler = StandardScaler()\n",
    "normalized_ss = ['V2','V3','V4','V5','V6','V7','V8','V9','V11','V12','V13','V14','V15','V16','V17','V18','V19','V20','V21','V22','V23','V24','V25','V27','V1','V10','V26','V28']"
   ],
   "metadata": {
    "collapsed": false,
    "pycharm": {
     "name": "#%%\n"
    }
   }
  },
  {
   "cell_type": "code",
   "execution_count": 22,
   "outputs": [],
   "source": [
    "standard_scaler.fit(data[normalized_ss])\n",
    "x_scaled = standard_scaler.transform(data[normalized_ss])\n",
    "normalized_features = pd.DataFrame(x_scaled, columns=normalized_ss, index=data.index)\n",
    "data[normalized_ss] = normalized_features"
   ],
   "metadata": {
    "collapsed": false,
    "pycharm": {
     "name": "#%%\n"
    }
   }
  },
  {
   "cell_type": "code",
   "execution_count": 23,
   "outputs": [],
   "source": [
    "def standard(df_tmp):\n",
    "    x_scaled = standard_scaler.transform(df_tmp[normalized_ss])\n",
    "    normalized_features = pd.DataFrame(x_scaled, columns=normalized_ss, index=df_tmp.index)\n",
    "    return normalized_features"
   ],
   "metadata": {
    "collapsed": false,
    "pycharm": {
     "name": "#%%\n"
    }
   }
  },
  {
   "cell_type": "code",
   "execution_count": 24,
   "outputs": [
    {
     "data": {
      "text/plain": "            Time        V1        V2        V3        V4        V5        V6  \\\n0       0.012182 -1.483668 -0.472418  0.576440 -1.280121  0.767097 -1.567969   \n1       0.889520 -0.243486 -2.452738 -2.502076  0.559670  0.097074  1.623571   \n2       0.563006 -1.182510 -0.550107  1.632390 -0.710648 -1.125155  1.610210   \n3       0.397171  0.701808  0.114694  0.082087  0.373142 -0.043935 -0.019102   \n4       0.069164 -0.651305  0.579632  0.779854 -1.158918  0.625608  0.606821   \n...          ...       ...       ...       ...       ...       ...       ...   \n199359  0.437624  0.689988  0.045379  0.336873  0.374644 -0.273109 -0.120189   \n199360  0.920181 -0.533636  0.083904 -0.855156 -0.924968  1.807096  2.232541   \n199361  0.461798 -0.138598  0.840410  1.091754  0.393098  0.327390 -0.722479   \n199362  0.508884 -1.897348  2.054052 -1.861686 -2.447586  1.738222  2.232541   \n199363  0.442040  0.727451 -0.743850  0.261151 -0.510857 -0.959129 -0.544233   \n\n              V7        V8        V9  ...       V21       V22       V23  \\\n0       1.081406 -1.259200  1.315021  ... -0.601974  1.293137  2.307521   \n1       1.785084 -0.216544  0.030686  ...  2.543073 -0.130175 -2.326602   \n2      -1.653086  1.724683  1.941674  ... -1.524495 -0.601047 -0.991005   \n3      -0.201668  0.180943 -0.051242  ... -0.693360 -1.046252  0.453604   \n4       0.374555  0.418713  1.372712  ... -0.813827 -0.664958 -0.449084   \n...          ...       ...       ...  ...       ...       ...       ...   \n199359 -0.203257  0.105542 -0.097055  ... -0.525446 -0.812144  0.620794   \n199360 -0.551669  2.189814  0.408785  ...  0.162731 -0.027859  0.922239   \n199361  1.234961 -0.956826 -0.467527  ...  0.210761  0.500453 -1.075627   \n199362 -0.558226  2.189814  0.585130  ... -0.978048 -1.481233  0.553030   \n199363 -0.593664 -0.528898 -0.721318  ...  0.133602 -0.331767 -0.207354   \n\n             V24       V25       V26       V27       V28    Amount  Class  \n0       0.709203  0.624006 -1.662941  1.948869 -1.276363  0.005405      0  \n1      -1.404264 -1.017248  1.398853 -1.829731  0.796518  1.000000      0  \n2       0.014532  0.940931  1.792847 -0.452359  0.617581  0.405362      0  \n3      -0.631527  0.248602  0.285290 -0.177852  0.006105  0.010702      0  \n4      -2.339401 -0.487393  1.685579  1.948869  1.646550  0.201654      0  \n...          ...       ...       ...       ...       ...       ...    ...  \n199359 -0.012829  0.179599  0.240643 -0.201819 -0.057898  0.010702      0  \n199360  1.146436 -2.682117 -1.640401  0.323450  1.010905  0.482272      0  \n199361  0.675349  0.475558 -0.844379 -0.807382 -1.665364  0.021295      0  \n199362  1.139788  0.642512  0.918270  1.948869  2.126553  0.005405      0  \n199363 -0.186028  0.582922 -0.832854 -0.068043  0.220131  0.610745      0  \n\n[199364 rows x 31 columns]",
      "text/html": "<div>\n<style scoped>\n    .dataframe tbody tr th:only-of-type {\n        vertical-align: middle;\n    }\n\n    .dataframe tbody tr th {\n        vertical-align: top;\n    }\n\n    .dataframe thead th {\n        text-align: right;\n    }\n</style>\n<table border=\"1\" class=\"dataframe\">\n  <thead>\n    <tr style=\"text-align: right;\">\n      <th></th>\n      <th>Time</th>\n      <th>V1</th>\n      <th>V2</th>\n      <th>V3</th>\n      <th>V4</th>\n      <th>V5</th>\n      <th>V6</th>\n      <th>V7</th>\n      <th>V8</th>\n      <th>V9</th>\n      <th>...</th>\n      <th>V21</th>\n      <th>V22</th>\n      <th>V23</th>\n      <th>V24</th>\n      <th>V25</th>\n      <th>V26</th>\n      <th>V27</th>\n      <th>V28</th>\n      <th>Amount</th>\n      <th>Class</th>\n    </tr>\n  </thead>\n  <tbody>\n    <tr>\n      <th>0</th>\n      <td>0.012182</td>\n      <td>-1.483668</td>\n      <td>-0.472418</td>\n      <td>0.576440</td>\n      <td>-1.280121</td>\n      <td>0.767097</td>\n      <td>-1.567969</td>\n      <td>1.081406</td>\n      <td>-1.259200</td>\n      <td>1.315021</td>\n      <td>...</td>\n      <td>-0.601974</td>\n      <td>1.293137</td>\n      <td>2.307521</td>\n      <td>0.709203</td>\n      <td>0.624006</td>\n      <td>-1.662941</td>\n      <td>1.948869</td>\n      <td>-1.276363</td>\n      <td>0.005405</td>\n      <td>0</td>\n    </tr>\n    <tr>\n      <th>1</th>\n      <td>0.889520</td>\n      <td>-0.243486</td>\n      <td>-2.452738</td>\n      <td>-2.502076</td>\n      <td>0.559670</td>\n      <td>0.097074</td>\n      <td>1.623571</td>\n      <td>1.785084</td>\n      <td>-0.216544</td>\n      <td>0.030686</td>\n      <td>...</td>\n      <td>2.543073</td>\n      <td>-0.130175</td>\n      <td>-2.326602</td>\n      <td>-1.404264</td>\n      <td>-1.017248</td>\n      <td>1.398853</td>\n      <td>-1.829731</td>\n      <td>0.796518</td>\n      <td>1.000000</td>\n      <td>0</td>\n    </tr>\n    <tr>\n      <th>2</th>\n      <td>0.563006</td>\n      <td>-1.182510</td>\n      <td>-0.550107</td>\n      <td>1.632390</td>\n      <td>-0.710648</td>\n      <td>-1.125155</td>\n      <td>1.610210</td>\n      <td>-1.653086</td>\n      <td>1.724683</td>\n      <td>1.941674</td>\n      <td>...</td>\n      <td>-1.524495</td>\n      <td>-0.601047</td>\n      <td>-0.991005</td>\n      <td>0.014532</td>\n      <td>0.940931</td>\n      <td>1.792847</td>\n      <td>-0.452359</td>\n      <td>0.617581</td>\n      <td>0.405362</td>\n      <td>0</td>\n    </tr>\n    <tr>\n      <th>3</th>\n      <td>0.397171</td>\n      <td>0.701808</td>\n      <td>0.114694</td>\n      <td>0.082087</td>\n      <td>0.373142</td>\n      <td>-0.043935</td>\n      <td>-0.019102</td>\n      <td>-0.201668</td>\n      <td>0.180943</td>\n      <td>-0.051242</td>\n      <td>...</td>\n      <td>-0.693360</td>\n      <td>-1.046252</td>\n      <td>0.453604</td>\n      <td>-0.631527</td>\n      <td>0.248602</td>\n      <td>0.285290</td>\n      <td>-0.177852</td>\n      <td>0.006105</td>\n      <td>0.010702</td>\n      <td>0</td>\n    </tr>\n    <tr>\n      <th>4</th>\n      <td>0.069164</td>\n      <td>-0.651305</td>\n      <td>0.579632</td>\n      <td>0.779854</td>\n      <td>-1.158918</td>\n      <td>0.625608</td>\n      <td>0.606821</td>\n      <td>0.374555</td>\n      <td>0.418713</td>\n      <td>1.372712</td>\n      <td>...</td>\n      <td>-0.813827</td>\n      <td>-0.664958</td>\n      <td>-0.449084</td>\n      <td>-2.339401</td>\n      <td>-0.487393</td>\n      <td>1.685579</td>\n      <td>1.948869</td>\n      <td>1.646550</td>\n      <td>0.201654</td>\n      <td>0</td>\n    </tr>\n    <tr>\n      <th>...</th>\n      <td>...</td>\n      <td>...</td>\n      <td>...</td>\n      <td>...</td>\n      <td>...</td>\n      <td>...</td>\n      <td>...</td>\n      <td>...</td>\n      <td>...</td>\n      <td>...</td>\n      <td>...</td>\n      <td>...</td>\n      <td>...</td>\n      <td>...</td>\n      <td>...</td>\n      <td>...</td>\n      <td>...</td>\n      <td>...</td>\n      <td>...</td>\n      <td>...</td>\n      <td>...</td>\n    </tr>\n    <tr>\n      <th>199359</th>\n      <td>0.437624</td>\n      <td>0.689988</td>\n      <td>0.045379</td>\n      <td>0.336873</td>\n      <td>0.374644</td>\n      <td>-0.273109</td>\n      <td>-0.120189</td>\n      <td>-0.203257</td>\n      <td>0.105542</td>\n      <td>-0.097055</td>\n      <td>...</td>\n      <td>-0.525446</td>\n      <td>-0.812144</td>\n      <td>0.620794</td>\n      <td>-0.012829</td>\n      <td>0.179599</td>\n      <td>0.240643</td>\n      <td>-0.201819</td>\n      <td>-0.057898</td>\n      <td>0.010702</td>\n      <td>0</td>\n    </tr>\n    <tr>\n      <th>199360</th>\n      <td>0.920181</td>\n      <td>-0.533636</td>\n      <td>0.083904</td>\n      <td>-0.855156</td>\n      <td>-0.924968</td>\n      <td>1.807096</td>\n      <td>2.232541</td>\n      <td>-0.551669</td>\n      <td>2.189814</td>\n      <td>0.408785</td>\n      <td>...</td>\n      <td>0.162731</td>\n      <td>-0.027859</td>\n      <td>0.922239</td>\n      <td>1.146436</td>\n      <td>-2.682117</td>\n      <td>-1.640401</td>\n      <td>0.323450</td>\n      <td>1.010905</td>\n      <td>0.482272</td>\n      <td>0</td>\n    </tr>\n    <tr>\n      <th>199361</th>\n      <td>0.461798</td>\n      <td>-0.138598</td>\n      <td>0.840410</td>\n      <td>1.091754</td>\n      <td>0.393098</td>\n      <td>0.327390</td>\n      <td>-0.722479</td>\n      <td>1.234961</td>\n      <td>-0.956826</td>\n      <td>-0.467527</td>\n      <td>...</td>\n      <td>0.210761</td>\n      <td>0.500453</td>\n      <td>-1.075627</td>\n      <td>0.675349</td>\n      <td>0.475558</td>\n      <td>-0.844379</td>\n      <td>-0.807382</td>\n      <td>-1.665364</td>\n      <td>0.021295</td>\n      <td>0</td>\n    </tr>\n    <tr>\n      <th>199362</th>\n      <td>0.508884</td>\n      <td>-1.897348</td>\n      <td>2.054052</td>\n      <td>-1.861686</td>\n      <td>-2.447586</td>\n      <td>1.738222</td>\n      <td>2.232541</td>\n      <td>-0.558226</td>\n      <td>2.189814</td>\n      <td>0.585130</td>\n      <td>...</td>\n      <td>-0.978048</td>\n      <td>-1.481233</td>\n      <td>0.553030</td>\n      <td>1.139788</td>\n      <td>0.642512</td>\n      <td>0.918270</td>\n      <td>1.948869</td>\n      <td>2.126553</td>\n      <td>0.005405</td>\n      <td>0</td>\n    </tr>\n    <tr>\n      <th>199363</th>\n      <td>0.442040</td>\n      <td>0.727451</td>\n      <td>-0.743850</td>\n      <td>0.261151</td>\n      <td>-0.510857</td>\n      <td>-0.959129</td>\n      <td>-0.544233</td>\n      <td>-0.593664</td>\n      <td>-0.528898</td>\n      <td>-0.721318</td>\n      <td>...</td>\n      <td>0.133602</td>\n      <td>-0.331767</td>\n      <td>-0.207354</td>\n      <td>-0.186028</td>\n      <td>0.582922</td>\n      <td>-0.832854</td>\n      <td>-0.068043</td>\n      <td>0.220131</td>\n      <td>0.610745</td>\n      <td>0</td>\n    </tr>\n  </tbody>\n</table>\n<p>199364 rows × 31 columns</p>\n</div>"
     },
     "execution_count": 24,
     "metadata": {},
     "output_type": "execute_result"
    }
   ],
   "source": [
    "data"
   ],
   "metadata": {
    "collapsed": false,
    "pycharm": {
     "name": "#%%\n"
    }
   }
  },
  {
   "cell_type": "code",
   "execution_count": 25,
   "outputs": [
    {
     "data": {
      "text/plain": "<AxesSubplot:>"
     },
     "execution_count": 25,
     "metadata": {},
     "output_type": "execute_result"
    },
    {
     "data": {
      "text/plain": "<Figure size 432x288 with 1 Axes>",
      "image/png": "[encoded data removed]"
     },
     "metadata": {
      "needs_background": "light"
     },
     "output_type": "display_data"
    }
   ],
   "source": [
    "data['V10'].hist()"
   ],
   "metadata": {
    "collapsed": false,
    "pycharm": {
     "name": "#%%\n"
    }
   }
  },
  {
   "cell_type": "markdown",
   "source": [
    "## 4. Chia dữ liệu"
   ],
   "metadata": {
    "collapsed": false
   }
  },
  {
   "cell_type": "markdown",
   "source": [
    "Cài đặt feature và label"
   ],
   "metadata": {
    "collapsed": false
   }
  },
  {
   "cell_type": "code",
   "execution_count": 26,
   "outputs": [],
   "source": [
    "feature_data = data.drop(['Class'], axis = 1)\n",
    "label_data = data['Class']"
   ],
   "metadata": {
    "collapsed": false,
    "pycharm": {
     "name": "#%%\n"
    }
   }
  },
  {
   "cell_type": "code",
   "execution_count": 27,
   "outputs": [
    {
     "data": {
      "text/plain": "            Time        V1        V2        V3        V4        V5        V6  \\\n0       0.012182 -1.483668 -0.472418  0.576440 -1.280121  0.767097 -1.567969   \n1       0.889520 -0.243486 -2.452738 -2.502076  0.559670  0.097074  1.623571   \n2       0.563006 -1.182510 -0.550107  1.632390 -0.710648 -1.125155  1.610210   \n3       0.397171  0.701808  0.114694  0.082087  0.373142 -0.043935 -0.019102   \n4       0.069164 -0.651305  0.579632  0.779854 -1.158918  0.625608  0.606821   \n...          ...       ...       ...       ...       ...       ...       ...   \n199359  0.437624  0.689988  0.045379  0.336873  0.374644 -0.273109 -0.120189   \n199360  0.920181 -0.533636  0.083904 -0.855156 -0.924968  1.807096  2.232541   \n199361  0.461798 -0.138598  0.840410  1.091754  0.393098  0.327390 -0.722479   \n199362  0.508884 -1.897348  2.054052 -1.861686 -2.447586  1.738222  2.232541   \n199363  0.442040  0.727451 -0.743850  0.261151 -0.510857 -0.959129 -0.544233   \n\n              V7        V8        V9  ...       V20       V21       V22  \\\n0       1.081406 -1.259200  1.315021  ... -2.204493 -0.601974  1.293137   \n1       1.785084 -0.216544  0.030686  ...  2.134977  2.543073 -0.130175   \n2      -1.653086  1.724683  1.941674  ... -1.651229 -1.524495 -0.601047   \n3      -0.201668  0.180943 -0.051242  ... -0.382470 -0.693360 -1.046252   \n4       0.374555  0.418713  1.372712  ...  0.473095 -0.813827 -0.664958   \n...          ...       ...       ...  ...       ...       ...       ...   \n199359 -0.203257  0.105542 -0.097055  ... -0.406175 -0.525446 -0.812144   \n199360 -0.551669  2.189814  0.408785  ... -0.840157  0.162731 -0.027859   \n199361  1.234961 -0.956826 -0.467527  ...  0.111006  0.210761  0.500453   \n199362 -0.558226  2.189814  0.585130  ...  1.399304 -0.978048 -1.481233   \n199363 -0.593664 -0.528898 -0.721318  ...  1.149133  0.133602 -0.331767   \n\n             V23       V24       V25       V26       V27       V28    Amount  \n0       2.307521  0.709203  0.624006 -1.662941  1.948869 -1.276363  0.005405  \n1      -2.326602 -1.404264 -1.017248  1.398853 -1.829731  0.796518  1.000000  \n2      -0.991005  0.014532  0.940931  1.792847 -0.452359  0.617581  0.405362  \n3       0.453604 -0.631527  0.248602  0.285290 -0.177852  0.006105  0.010702  \n4      -0.449084 -2.339401 -0.487393  1.685579  1.948869  1.646550  0.201654  \n...          ...       ...       ...       ...       ...       ...       ...  \n199359  0.620794 -0.012829  0.179599  0.240643 -0.201819 -0.057898  0.010702  \n199360  0.922239  1.146436 -2.682117 -1.640401  0.323450  1.010905  0.482272  \n199361 -1.075627  0.675349  0.475558 -0.844379 -0.807382 -1.665364  0.021295  \n199362  0.553030  1.139788  0.642512  0.918270  1.948869  2.126553  0.005405  \n199363 -0.207354 -0.186028  0.582922 -0.832854 -0.068043  0.220131  0.610745  \n\n[199364 rows x 30 columns]",
      "text/html": "<div>\n<style scoped>\n    .dataframe tbody tr th:only-of-type {\n        vertical-align: middle;\n    }\n\n    .dataframe tbody tr th {\n        vertical-align: top;\n    }\n\n    .dataframe thead th {\n        text-align: right;\n    }\n</style>\n<table border=\"1\" class=\"dataframe\">\n  <thead>\n    <tr style=\"text-align: right;\">\n      <th></th>\n      <th>Time</th>\n      <th>V1</th>\n      <th>V2</th>\n      <th>V3</th>\n      <th>V4</th>\n      <th>V5</th>\n      <th>V6</th>\n      <th>V7</th>\n      <th>V8</th>\n      <th>V9</th>\n      <th>...</th>\n      <th>V20</th>\n      <th>V21</th>\n      <th>V22</th>\n      <th>V23</th>\n      <th>V24</th>\n      <th>V25</th>\n      <th>V26</th>\n      <th>V27</th>\n      <th>V28</th>\n      <th>Amount</th>\n    </tr>\n  </thead>\n  <tbody>\n    <tr>\n      <th>0</th>\n      <td>0.012182</td>\n      <td>-1.483668</td>\n      <td>-0.472418</td>\n      <td>0.576440</td>\n      <td>-1.280121</td>\n      <td>0.767097</td>\n      <td>-1.567969</td>\n      <td>1.081406</td>\n      <td>-1.259200</td>\n      <td>1.315021</td>\n      <td>...</td>\n      <td>-2.204493</td>\n      <td>-0.601974</td>\n      <td>1.293137</td>\n      <td>2.307521</td>\n      <td>0.709203</td>\n      <td>0.624006</td>\n      <td>-1.662941</td>\n      <td>1.948869</td>\n      <td>-1.276363</td>\n      <td>0.005405</td>\n    </tr>\n    <tr>\n      <th>1</th>\n      <td>0.889520</td>\n      <td>-0.243486</td>\n      <td>-2.452738</td>\n      <td>-2.502076</td>\n      <td>0.559670</td>\n      <td>0.097074</td>\n      <td>1.623571</td>\n      <td>1.785084</td>\n      <td>-0.216544</td>\n      <td>0.030686</td>\n      <td>...</td>\n      <td>2.134977</td>\n      <td>2.543073</td>\n      <td>-0.130175</td>\n      <td>-2.326602</td>\n      <td>-1.404264</td>\n      <td>-1.017248</td>\n      <td>1.398853</td>\n      <td>-1.829731</td>\n      <td>0.796518</td>\n      <td>1.000000</td>\n    </tr>\n    <tr>\n      <th>2</th>\n      <td>0.563006</td>\n      <td>-1.182510</td>\n      <td>-0.550107</td>\n      <td>1.632390</td>\n      <td>-0.710648</td>\n      <td>-1.125155</td>\n      <td>1.610210</td>\n      <td>-1.653086</td>\n      <td>1.724683</td>\n      <td>1.941674</td>\n      <td>...</td>\n      <td>-1.651229</td>\n      <td>-1.524495</td>\n      <td>-0.601047</td>\n      <td>-0.991005</td>\n      <td>0.014532</td>\n      <td>0.940931</td>\n      <td>1.792847</td>\n      <td>-0.452359</td>\n      <td>0.617581</td>\n      <td>0.405362</td>\n    </tr>\n    <tr>\n      <th>3</th>\n      <td>0.397171</td>\n      <td>0.701808</td>\n      <td>0.114694</td>\n      <td>0.082087</td>\n      <td>0.373142</td>\n      <td>-0.043935</td>\n      <td>-0.019102</td>\n      <td>-0.201668</td>\n      <td>0.180943</td>\n      <td>-0.051242</td>\n      <td>...</td>\n      <td>-0.382470</td>\n      <td>-0.693360</td>\n      <td>-1.046252</td>\n      <td>0.453604</td>\n      <td>-0.631527</td>\n      <td>0.248602</td>\n      <td>0.285290</td>\n      <td>-0.177852</td>\n      <td>0.006105</td>\n      <td>0.010702</td>\n    </tr>\n    <tr>\n      <th>4</th>\n      <td>0.069164</td>\n      <td>-0.651305</td>\n      <td>0.579632</td>\n      <td>0.779854</td>\n      <td>-1.158918</td>\n      <td>0.625608</td>\n      <td>0.606821</td>\n      <td>0.374555</td>\n      <td>0.418713</td>\n      <td>1.372712</td>\n      <td>...</td>\n      <td>0.473095</td>\n      <td>-0.813827</td>\n      <td>-0.664958</td>\n      <td>-0.449084</td>\n      <td>-2.339401</td>\n      <td>-0.487393</td>\n      <td>1.685579</td>\n      <td>1.948869</td>\n      <td>1.646550</td>\n      <td>0.201654</td>\n    </tr>\n    <tr>\n      <th>...</th>\n      <td>...</td>\n      <td>...</td>\n      <td>...</td>\n      <td>...</td>\n      <td>...</td>\n      <td>...</td>\n      <td>...</td>\n      <td>...</td>\n      <td>...</td>\n      <td>...</td>\n      <td>...</td>\n      <td>...</td>\n      <td>...</td>\n      <td>...</td>\n      <td>...</td>\n      <td>...</td>\n      <td>...</td>\n      <td>...</td>\n      <td>...</td>\n      <td>...</td>\n      <td>...</td>\n    </tr>\n    <tr>\n      <th>199359</th>\n      <td>0.437624</td>\n      <td>0.689988</td>\n      <td>0.045379</td>\n      <td>0.336873</td>\n      <td>0.374644</td>\n      <td>-0.273109</td>\n      <td>-0.120189</td>\n      <td>-0.203257</td>\n      <td>0.105542</td>\n      <td>-0.097055</td>\n      <td>...</td>\n      <td>-0.406175</td>\n      <td>-0.525446</td>\n      <td>-0.812144</td>\n      <td>0.620794</td>\n      <td>-0.012829</td>\n      <td>0.179599</td>\n      <td>0.240643</td>\n      <td>-0.201819</td>\n      <td>-0.057898</td>\n      <td>0.010702</td>\n    </tr>\n    <tr>\n      <th>199360</th>\n      <td>0.920181</td>\n      <td>-0.533636</td>\n      <td>0.083904</td>\n      <td>-0.855156</td>\n      <td>-0.924968</td>\n      <td>1.807096</td>\n      <td>2.232541</td>\n      <td>-0.551669</td>\n      <td>2.189814</td>\n      <td>0.408785</td>\n      <td>...</td>\n      <td>-0.840157</td>\n      <td>0.162731</td>\n      <td>-0.027859</td>\n      <td>0.922239</td>\n      <td>1.146436</td>\n      <td>-2.682117</td>\n      <td>-1.640401</td>\n      <td>0.323450</td>\n      <td>1.010905</td>\n      <td>0.482272</td>\n    </tr>\n    <tr>\n      <th>199361</th>\n      <td>0.461798</td>\n      <td>-0.138598</td>\n      <td>0.840410</td>\n      <td>1.091754</td>\n      <td>0.393098</td>\n      <td>0.327390</td>\n      <td>-0.722479</td>\n      <td>1.234961</td>\n      <td>-0.956826</td>\n      <td>-0.467527</td>\n      <td>...</td>\n      <td>0.111006</td>\n      <td>0.210761</td>\n      <td>0.500453</td>\n      <td>-1.075627</td>\n      <td>0.675349</td>\n      <td>0.475558</td>\n      <td>-0.844379</td>\n      <td>-0.807382</td>\n      <td>-1.665364</td>\n      <td>0.021295</td>\n    </tr>\n    <tr>\n      <th>199362</th>\n      <td>0.508884</td>\n      <td>-1.897348</td>\n      <td>2.054052</td>\n      <td>-1.861686</td>\n      <td>-2.447586</td>\n      <td>1.738222</td>\n      <td>2.232541</td>\n      <td>-0.558226</td>\n      <td>2.189814</td>\n      <td>0.585130</td>\n      <td>...</td>\n      <td>1.399304</td>\n      <td>-0.978048</td>\n      <td>-1.481233</td>\n      <td>0.553030</td>\n      <td>1.139788</td>\n      <td>0.642512</td>\n      <td>0.918270</td>\n      <td>1.948869</td>\n      <td>2.126553</td>\n      <td>0.005405</td>\n    </tr>\n    <tr>\n      <th>199363</th>\n      <td>0.442040</td>\n      <td>0.727451</td>\n      <td>-0.743850</td>\n      <td>0.261151</td>\n      <td>-0.510857</td>\n      <td>-0.959129</td>\n      <td>-0.544233</td>\n      <td>-0.593664</td>\n      <td>-0.528898</td>\n      <td>-0.721318</td>\n      <td>...</td>\n      <td>1.149133</td>\n      <td>0.133602</td>\n      <td>-0.331767</td>\n      <td>-0.207354</td>\n      <td>-0.186028</td>\n      <td>0.582922</td>\n      <td>-0.832854</td>\n      <td>-0.068043</td>\n      <td>0.220131</td>\n      <td>0.610745</td>\n    </tr>\n  </tbody>\n</table>\n<p>199364 rows × 30 columns</p>\n</div>"
     },
     "execution_count": 27,
     "metadata": {},
     "output_type": "execute_result"
    }
   ],
   "source": [
    "feature_data"
   ],
   "metadata": {
    "collapsed": false,
    "pycharm": {
     "name": "#%%\n"
    }
   }
  },
  {
   "cell_type": "markdown",
   "source": [
    "Chia dữ liệu train, val"
   ],
   "metadata": {
    "collapsed": false
   }
  },
  {
   "cell_type": "code",
   "execution_count": 28,
   "outputs": [
    {
     "data": {
      "text/plain": "((197370, 30), (1994, 30), (197370,), (1994,))"
     },
     "execution_count": 28,
     "metadata": {},
     "output_type": "execute_result"
    }
   ],
   "source": [
    "x_train, x_test, y_train, y_test = train_test_split(feature_data, label_data, test_size =0.01 , random_state = 50)\n",
    "x_train.shape, x_test.shape, y_train.shape, y_test.shape"
   ],
   "metadata": {
    "collapsed": false,
    "pycharm": {
     "name": "#%%\n"
    }
   }
  },
  {
   "cell_type": "markdown",
   "source": [
    "# II. Model"
   ],
   "metadata": {
    "collapsed": false
   }
  },
  {
   "cell_type": "markdown",
   "source": [
    "Xây dựng mô hình"
   ],
   "metadata": {
    "collapsed": false
   }
  },
  {
   "cell_type": "code",
   "execution_count": 29,
   "outputs": [],
   "source": [
    "model = Sequential([\n",
    "    Input(shape=(30,)),\n",
    "    Dense(2, activation='relu',kernel_regularizer='l2'),\n",
    "    Dense(1, activation='sigmoid')\n",
    "])"
   ],
   "metadata": {
    "collapsed": false,
    "pycharm": {
     "name": "#%%\n"
    }
   }
  },
  {
   "cell_type": "code",
   "execution_count": 30,
   "outputs": [
    {
     "name": "stdout",
     "output_type": "stream",
     "text": [
      "Model: \"sequential\"\n",
      "_________________________________________________________________\n",
      " Layer (type)                Output Shape              Param #   \n",
      "=================================================================\n",
      " dense (Dense)               (None, 2)                 62        \n",
      "                                                                 \n",
      " dense_1 (Dense)             (None, 1)                 3         \n",
      "                                                                 \n",
      "=================================================================\n",
      "Total params: 65\n",
      "Trainable params: 65\n",
      "Non-trainable params: 0\n",
      "_________________________________________________________________\n"
     ]
    }
   ],
   "source": [
    "model.summary()"
   ],
   "metadata": {
    "collapsed": false,
    "pycharm": {
     "name": "#%%\n"
    }
   }
  },
  {
   "cell_type": "markdown",
   "source": [
    "Lựa chọn thuật toán học"
   ],
   "metadata": {
    "collapsed": false
   }
  },
  {
   "cell_type": "code",
   "execution_count": 31,
   "outputs": [],
   "source": [
    "model.compile(optimizer='adam',\n",
    "              loss= BinaryCrossentropy(),\n",
    "              metrics=[AUC()])"
   ],
   "metadata": {
    "collapsed": false,
    "pycharm": {
     "name": "#%%\n"
    }
   }
  },
  {
   "cell_type": "markdown",
   "source": [
    "Trainning\n",
    "- epochs thứ 15 trở đi có vẻ đã đạt tối ưu toàn cục"
   ],
   "metadata": {
    "collapsed": false
   }
  },
  {
   "cell_type": "code",
   "execution_count": 32,
   "outputs": [
    {
     "name": "stdout",
     "output_type": "stream",
     "text": [
      "Epoch 1/10\n",
      "6168/6168 [==============================] - 9s 1ms/step - loss: 0.0780 - auc: 0.8294 - val_loss: 0.0028 - val_auc: 1.0000\n",
      "Epoch 2/10\n",
      "6168/6168 [==============================] - 7s 1ms/step - loss: 0.0064 - auc: 0.9122 - val_loss: 0.0022 - val_auc: 1.0000\n",
      "Epoch 3/10\n",
      "6168/6168 [==============================] - 8s 1ms/step - loss: 0.0057 - auc: 0.9121 - val_loss: 0.0020 - val_auc: 1.0000\n",
      "Epoch 4/10\n",
      "6168/6168 [==============================] - 8s 1ms/step - loss: 0.0052 - auc: 0.9119 - val_loss: 0.0017 - val_auc: 1.0000\n",
      "Epoch 5/10\n",
      "6168/6168 [==============================] - 8s 1ms/step - loss: 0.0049 - auc: 0.9218 - val_loss: 0.0016 - val_auc: 1.0000\n",
      "Epoch 6/10\n",
      "6168/6168 [==============================] - 7s 1ms/step - loss: 0.0047 - auc: 0.9190 - val_loss: 0.0016 - val_auc: 1.0000\n",
      "Epoch 7/10\n",
      "6168/6168 [==============================] - 8s 1ms/step - loss: 0.0046 - auc: 0.9273 - val_loss: 0.0013 - val_auc: 1.0000\n",
      "Epoch 8/10\n",
      "6168/6168 [==============================] - 7s 1ms/step - loss: 0.0045 - auc: 0.9218 - val_loss: 0.0016 - val_auc: 1.0000\n",
      "Epoch 9/10\n",
      "6168/6168 [==============================] - 7s 1ms/step - loss: 0.0045 - auc: 0.9175 - val_loss: 0.0013 - val_auc: 1.0000\n",
      "Epoch 10/10\n",
      "6168/6168 [==============================] - 8s 1ms/step - loss: 0.0044 - auc: 0.9217 - val_loss: 0.0015 - val_auc: 1.0000\n"
     ]
    },
    {
     "data": {
      "text/plain": "<keras.callbacks.History at 0x1346a485190>"
     },
     "execution_count": 32,
     "metadata": {},
     "output_type": "execute_result"
    }
   ],
   "source": [
    "model.fit(x_train, y_train, epochs=10, validation_data=(x_test, y_test))"
   ],
   "metadata": {
    "collapsed": false,
    "pycharm": {
     "name": "#%%\n"
    }
   }
  },
  {
   "cell_type": "markdown",
   "source": [
    "# III.Evalue"
   ],
   "metadata": {
    "collapsed": false
   }
  },
  {
   "cell_type": "code",
   "execution_count": 33,
   "outputs": [
    {
     "name": "stdout",
     "output_type": "stream",
     "text": [
      "              precision    recall  f1-score   support\n",
      "\n",
      "           0       1.00      1.00      1.00    197015\n",
      "           1       0.87      0.72      0.78       355\n",
      "\n",
      "    accuracy                           1.00    197370\n",
      "   macro avg       0.93      0.86      0.89    197370\n",
      "weighted avg       1.00      1.00      1.00    197370\n",
      "\n"
     ]
    }
   ],
   "source": [
    "y_pred = (model.predict(x_train) >= 0.5).astype(int)\n",
    "\n",
    "target_names = ['0', '1']\n",
    "\n",
    "from sklearn.metrics import classification_report\n",
    "print(classification_report(\n",
    "    y_train, y_pred, target_names=target_names\n",
    "))\n"
   ],
   "metadata": {
    "collapsed": false,
    "pycharm": {
     "name": "#%%\n"
    }
   }
  },
  {
   "cell_type": "markdown",
   "source": [
    "# IV. Deploy"
   ],
   "metadata": {
    "collapsed": false
   }
  },
  {
   "cell_type": "code",
   "execution_count": 34,
   "outputs": [
    {
     "data": {
      "text/plain": "          ID      Time         V1        V2         V3        V4         V5  \\\n0          0   41505.0 -16.526507  8.584972 -18.649853  9.505594 -13.793819   \n1          1   44261.0   0.339812 -2.743745  -0.134070 -1.385729  -1.451413   \n2          2   35484.0   1.399590 -0.590701   0.168619 -1.029950  -0.539806   \n3          3  167123.0  -0.432071  1.647895  -1.669361 -0.349504   0.785785   \n4          4  168473.0   2.014160 -0.137394  -1.015839  0.327269  -0.182179   \n...      ...       ...        ...       ...        ...       ...        ...   \n85438  85438  124702.0  -0.673320  1.823100  -2.152665 -1.051308   1.822568   \n85439  85439  159354.0   2.125553 -0.065046  -1.537467  0.125578   0.500319   \n85440  85440   31911.0   0.746800 -1.028053   1.127833  1.631418  -1.193487   \n85441  85441  141043.0   2.080547  0.167780  -1.722107  0.403323   0.451991   \n85442  85442   61191.0   1.091637 -0.068047   1.336154  1.430728  -0.971375   \n\n             V6         V7        V8  ...       V21       V22       V23  \\\n0     -2.832404 -16.701694  7.517344  ...  1.190739 -1.127670 -2.358579   \n1      1.015887  -0.524379  0.224060  ... -0.213436 -0.942525 -0.526819   \n2      0.040444  -0.712567  0.002299  ...  0.102398  0.168269 -0.166639   \n3     -0.630647   0.276990  0.586025  ...  0.358932  0.873663 -0.178642   \n4     -0.956571   0.043241 -0.160746  ... -0.238644 -0.616400  0.347045   \n...         ...        ...       ...  ...       ...       ...       ...   \n85438  1.319646  -0.228012 -1.743339  ...  2.292603 -0.929823  0.561185   \n85439 -0.359530   0.124248 -0.201678  ... -0.342157 -0.878330  0.281129   \n85440  0.946088  -0.857322  0.480905  ...  0.073226  0.058198 -0.235697   \n85441 -0.848388   0.190703 -0.239152  ... -0.367406 -0.945073  0.332659   \n85442  0.012072  -0.662681  0.216994  ...  0.168724  0.657102 -0.015262   \n\n            V24       V25       V26       V27       V28  Amount  Class  \n0      0.673461 -1.413700 -0.462762 -2.018575 -1.042804  364.19    NaN  \n1     -1.156992  0.311211 -0.746647  0.040996  0.102038  520.12    NaN  \n2     -0.810250  0.505083 -0.232340  0.011409  0.004634   31.00    NaN  \n3     -0.017171 -0.207392 -0.157756 -0.237386  0.001934    1.50    NaN  \n4      0.061561 -0.360196  0.174730 -0.078043 -0.070571    0.89    NaN  \n...         ...       ...       ...       ...       ...     ...    ...  \n85438  2.970343 -0.632171  0.095316  0.031770  0.093565    3.99    NaN  \n85439  0.035931 -0.173013  0.207555 -0.075438 -0.060078    1.79    NaN  \n85440 -0.457910  0.328226 -0.219767  0.058352  0.058441  195.60    NaN  \n85441  0.484916 -0.246959  0.174693 -0.061887 -0.030910    0.89    NaN  \n85442  0.413638  0.368876 -0.231823  0.080135  0.035442   10.00    NaN  \n\n[85443 rows x 32 columns]",
      "text/html": "<div>\n<style scoped>\n    .dataframe tbody tr th:only-of-type {\n        vertical-align: middle;\n    }\n\n    .dataframe tbody tr th {\n        vertical-align: top;\n    }\n\n    .dataframe thead th {\n        text-align: right;\n    }\n</style>\n<table border=\"1\" class=\"dataframe\">\n  <thead>\n    <tr style=\"text-align: right;\">\n      <th></th>\n      <th>ID</th>\n      <th>Time</th>\n      <th>V1</th>\n      <th>V2</th>\n      <th>V3</th>\n      <th>V4</th>\n      <th>V5</th>\n      <th>V6</th>\n      <th>V7</th>\n      <th>V8</th>\n      <th>...</th>\n      <th>V21</th>\n      <th>V22</th>\n      <th>V23</th>\n      <th>V24</th>\n      <th>V25</th>\n      <th>V26</th>\n      <th>V27</th>\n      <th>V28</th>\n      <th>Amount</th>\n      <th>Class</th>\n    </tr>\n  </thead>\n  <tbody>\n    <tr>\n      <th>0</th>\n      <td>0</td>\n      <td>41505.0</td>\n      <td>-16.526507</td>\n      <td>8.584972</td>\n      <td>-18.649853</td>\n      <td>9.505594</td>\n      <td>-13.793819</td>\n      <td>-2.832404</td>\n      <td>-16.701694</td>\n      <td>7.517344</td>\n      <td>...</td>\n      <td>1.190739</td>\n      <td>-1.127670</td>\n      <td>-2.358579</td>\n      <td>0.673461</td>\n      <td>-1.413700</td>\n      <td>-0.462762</td>\n      <td>-2.018575</td>\n      <td>-1.042804</td>\n      <td>364.19</td>\n      <td>NaN</td>\n    </tr>\n    <tr>\n      <th>1</th>\n      <td>1</td>\n      <td>44261.0</td>\n      <td>0.339812</td>\n      <td>-2.743745</td>\n      <td>-0.134070</td>\n      <td>-1.385729</td>\n      <td>-1.451413</td>\n      <td>1.015887</td>\n      <td>-0.524379</td>\n      <td>0.224060</td>\n      <td>...</td>\n      <td>-0.213436</td>\n      <td>-0.942525</td>\n      <td>-0.526819</td>\n      <td>-1.156992</td>\n      <td>0.311211</td>\n      <td>-0.746647</td>\n      <td>0.040996</td>\n      <td>0.102038</td>\n      <td>520.12</td>\n      <td>NaN</td>\n    </tr>\n    <tr>\n      <th>2</th>\n      <td>2</td>\n      <td>35484.0</td>\n      <td>1.399590</td>\n      <td>-0.590701</td>\n      <td>0.168619</td>\n      <td>-1.029950</td>\n      <td>-0.539806</td>\n      <td>0.040444</td>\n      <td>-0.712567</td>\n      <td>0.002299</td>\n      <td>...</td>\n      <td>0.102398</td>\n      <td>0.168269</td>\n      <td>-0.166639</td>\n      <td>-0.810250</td>\n      <td>0.505083</td>\n      <td>-0.232340</td>\n      <td>0.011409</td>\n      <td>0.004634</td>\n      <td>31.00</td>\n      <td>NaN</td>\n    </tr>\n    <tr>\n      <th>3</th>\n      <td>3</td>\n      <td>167123.0</td>\n      <td>-0.432071</td>\n      <td>1.647895</td>\n      <td>-1.669361</td>\n      <td>-0.349504</td>\n      <td>0.785785</td>\n      <td>-0.630647</td>\n      <td>0.276990</td>\n      <td>0.586025</td>\n      <td>...</td>\n      <td>0.358932</td>\n      <td>0.873663</td>\n      <td>-0.178642</td>\n      <td>-0.017171</td>\n      <td>-0.207392</td>\n      <td>-0.157756</td>\n      <td>-0.237386</td>\n      <td>0.001934</td>\n      <td>1.50</td>\n      <td>NaN</td>\n    </tr>\n    <tr>\n      <th>4</th>\n      <td>4</td>\n      <td>168473.0</td>\n      <td>2.014160</td>\n      <td>-0.137394</td>\n      <td>-1.015839</td>\n      <td>0.327269</td>\n      <td>-0.182179</td>\n      <td>-0.956571</td>\n      <td>0.043241</td>\n      <td>-0.160746</td>\n      <td>...</td>\n      <td>-0.238644</td>\n      <td>-0.616400</td>\n      <td>0.347045</td>\n      <td>0.061561</td>\n      <td>-0.360196</td>\n      <td>0.174730</td>\n      <td>-0.078043</td>\n      <td>-0.070571</td>\n      <td>0.89</td>\n      <td>NaN</td>\n    </tr>\n    <tr>\n      <th>...</th>\n      <td>...</td>\n      <td>...</td>\n      <td>...</td>\n      <td>...</td>\n      <td>...</td>\n      <td>...</td>\n      <td>...</td>\n      <td>...</td>\n      <td>...</td>\n      <td>...</td>\n      <td>...</td>\n      <td>...</td>\n      <td>...</td>\n      <td>...</td>\n      <td>...</td>\n      <td>...</td>\n      <td>...</td>\n      <td>...</td>\n      <td>...</td>\n      <td>...</td>\n      <td>...</td>\n    </tr>\n    <tr>\n      <th>85438</th>\n      <td>85438</td>\n      <td>124702.0</td>\n      <td>-0.673320</td>\n      <td>1.823100</td>\n      <td>-2.152665</td>\n      <td>-1.051308</td>\n      <td>1.822568</td>\n      <td>1.319646</td>\n      <td>-0.228012</td>\n      <td>-1.743339</td>\n      <td>...</td>\n      <td>2.292603</td>\n      <td>-0.929823</td>\n      <td>0.561185</td>\n      <td>2.970343</td>\n      <td>-0.632171</td>\n      <td>0.095316</td>\n      <td>0.031770</td>\n      <td>0.093565</td>\n      <td>3.99</td>\n      <td>NaN</td>\n    </tr>\n    <tr>\n      <th>85439</th>\n      <td>85439</td>\n      <td>159354.0</td>\n      <td>2.125553</td>\n      <td>-0.065046</td>\n      <td>-1.537467</td>\n      <td>0.125578</td>\n      <td>0.500319</td>\n      <td>-0.359530</td>\n      <td>0.124248</td>\n      <td>-0.201678</td>\n      <td>...</td>\n      <td>-0.342157</td>\n      <td>-0.878330</td>\n      <td>0.281129</td>\n      <td>0.035931</td>\n      <td>-0.173013</td>\n      <td>0.207555</td>\n      <td>-0.075438</td>\n      <td>-0.060078</td>\n      <td>1.79</td>\n      <td>NaN</td>\n    </tr>\n    <tr>\n      <th>85440</th>\n      <td>85440</td>\n      <td>31911.0</td>\n      <td>0.746800</td>\n      <td>-1.028053</td>\n      <td>1.127833</td>\n      <td>1.631418</td>\n      <td>-1.193487</td>\n      <td>0.946088</td>\n      <td>-0.857322</td>\n      <td>0.480905</td>\n      <td>...</td>\n      <td>0.073226</td>\n      <td>0.058198</td>\n      <td>-0.235697</td>\n      <td>-0.457910</td>\n      <td>0.328226</td>\n      <td>-0.219767</td>\n      <td>0.058352</td>\n      <td>0.058441</td>\n      <td>195.60</td>\n      <td>NaN</td>\n    </tr>\n    <tr>\n      <th>85441</th>\n      <td>85441</td>\n      <td>141043.0</td>\n      <td>2.080547</td>\n      <td>0.167780</td>\n      <td>-1.722107</td>\n      <td>0.403323</td>\n      <td>0.451991</td>\n      <td>-0.848388</td>\n      <td>0.190703</td>\n      <td>-0.239152</td>\n      <td>...</td>\n      <td>-0.367406</td>\n      <td>-0.945073</td>\n      <td>0.332659</td>\n      <td>0.484916</td>\n      <td>-0.246959</td>\n      <td>0.174693</td>\n      <td>-0.061887</td>\n      <td>-0.030910</td>\n      <td>0.89</td>\n      <td>NaN</td>\n    </tr>\n    <tr>\n      <th>85442</th>\n      <td>85442</td>\n      <td>61191.0</td>\n      <td>1.091637</td>\n      <td>-0.068047</td>\n      <td>1.336154</td>\n      <td>1.430728</td>\n      <td>-0.971375</td>\n      <td>0.012072</td>\n      <td>-0.662681</td>\n      <td>0.216994</td>\n      <td>...</td>\n      <td>0.168724</td>\n      <td>0.657102</td>\n      <td>-0.015262</td>\n      <td>0.413638</td>\n      <td>0.368876</td>\n      <td>-0.231823</td>\n      <td>0.080135</td>\n      <td>0.035442</td>\n      <td>10.00</td>\n      <td>NaN</td>\n    </tr>\n  </tbody>\n</table>\n<p>85443 rows × 32 columns</p>\n</div>"
     },
     "execution_count": 34,
     "metadata": {},
     "output_type": "execute_result"
    }
   ],
   "source": [
    "data_submission"
   ],
   "metadata": {
    "collapsed": false,
    "pycharm": {
     "name": "#%%\n"
    }
   }
  },
  {
   "cell_type": "code",
   "execution_count": 35,
   "outputs": [],
   "source": [
    "data_submission = data_submission.drop(['Class'], axis = 1)\n",
    "data_submission = drop_feature(data_submission)\n",
    "data_submission[col_mm] = minmax(data_submission)\n",
    "data_submission[normalized_ss] = standard(data_submission)"
   ],
   "metadata": {
    "collapsed": false,
    "pycharm": {
     "name": "#%%\n"
    }
   }
  },
  {
   "cell_type": "code",
   "execution_count": 36,
   "outputs": [
    {
     "data": {
      "text/plain": "array([[1],\n       [0],\n       [0],\n       ...,\n       [0],\n       [0],\n       [0]])"
     },
     "execution_count": 36,
     "metadata": {},
     "output_type": "execute_result"
    }
   ],
   "source": [
    "answer = (model.predict(data_submission) >= 0.5).astype(int)\n",
    "answer"
   ],
   "metadata": {
    "collapsed": false,
    "pycharm": {
     "name": "#%%\n"
    }
   }
  },
  {
   "cell_type": "markdown",
   "source": [
    "Ghi dữ liệu"
   ],
   "metadata": {
    "collapsed": false
   }
  },
  {
   "cell_type": "code",
   "execution_count": 37,
   "outputs": [
    {
     "data": {
      "text/plain": "          ID  Class\n0          0      1\n1          1      0\n2          2      0\n3          3      0\n4          4      0\n...      ...    ...\n85438  85438      0\n85439  85439      0\n85440  85440      0\n85441  85441      0\n85442  85442      0\n\n[85443 rows x 2 columns]",
      "text/html": "<div>\n<style scoped>\n    .dataframe tbody tr th:only-of-type {\n        vertical-align: middle;\n    }\n\n    .dataframe tbody tr th {\n        vertical-align: top;\n    }\n\n    .dataframe thead th {\n        text-align: right;\n    }\n</style>\n<table border=\"1\" class=\"dataframe\">\n  <thead>\n    <tr style=\"text-align: right;\">\n      <th></th>\n      <th>ID</th>\n      <th>Class</th>\n    </tr>\n  </thead>\n  <tbody>\n    <tr>\n      <th>0</th>\n      <td>0</td>\n      <td>1</td>\n    </tr>\n    <tr>\n      <th>1</th>\n      <td>1</td>\n      <td>0</td>\n    </tr>\n    <tr>\n      <th>2</th>\n      <td>2</td>\n      <td>0</td>\n    </tr>\n    <tr>\n      <th>3</th>\n      <td>3</td>\n      <td>0</td>\n    </tr>\n    <tr>\n      <th>4</th>\n      <td>4</td>\n      <td>0</td>\n    </tr>\n    <tr>\n      <th>...</th>\n      <td>...</td>\n      <td>...</td>\n    </tr>\n    <tr>\n      <th>85438</th>\n      <td>85438</td>\n      <td>0</td>\n    </tr>\n    <tr>\n      <th>85439</th>\n      <td>85439</td>\n      <td>0</td>\n    </tr>\n    <tr>\n      <th>85440</th>\n      <td>85440</td>\n      <td>0</td>\n    </tr>\n    <tr>\n      <th>85441</th>\n      <td>85441</td>\n      <td>0</td>\n    </tr>\n    <tr>\n      <th>85442</th>\n      <td>85442</td>\n      <td>0</td>\n    </tr>\n  </tbody>\n</table>\n<p>85443 rows × 2 columns</p>\n</div>"
     },
     "execution_count": 37,
     "metadata": {},
     "output_type": "execute_result"
    }
   ],
   "source": [
    "submission_label_path = './data/sample_submission.csv'\n",
    "df_submission_label = pd.read_csv(submission_label_path)\n",
    "df_submission_label['Class'] = answer\n",
    "df_submission_label"
   ],
   "metadata": {
    "collapsed": false,
    "pycharm": {
     "name": "#%%\n"
    }
   }
  },
  {
   "cell_type": "markdown",
   "source": [
    "Lưu"
   ],
   "metadata": {
    "collapsed": false
   }
  },
  {
   "cell_type": "code",
   "execution_count": 38,
   "outputs": [],
   "source": [
    "df_submission_label.to_csv(submission_label_path, index = False)"
   ],
   "metadata": {
    "collapsed": false,
    "pycharm": {
     "name": "#%%\n"
    }
   }
  }
 ],
 "metadata": {
  "kernelspec": {
   "display_name": "Python 3",
   "language": "python",
   "name": "python3"
  },
  "language_info": {
   "codemirror_mode": {
    "name": "ipython",
    "version": 2
   },
   "file_extension": ".py",
   "mimetype": "text/x-python",
   "name": "python",
   "nbconvert_exporter": "python",
   "pygments_lexer": "ipython2",
   "version": "2.7.6"
  }
 },
 "nbformat": 4,
 "nbformat_minor": 0
}